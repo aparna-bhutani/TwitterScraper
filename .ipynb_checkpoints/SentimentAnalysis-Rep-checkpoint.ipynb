{
 "cells": [
  {
   "cell_type": "code",
   "execution_count": 1,
   "metadata": {},
   "outputs": [],
   "source": [
    "import pandas as pd\n",
    "import nltk\n",
    "from nltk.tokenize import word_tokenize\n",
    "from nltk import pos_tag\n",
    "from nltk.corpus import stopwords\n",
    "from nltk.stem import WordNetLemmatizer\n",
    "import matplotlib\n",
    "import matplotlib.pyplot as plt"
   ]
  },
  {
   "cell_type": "code",
   "execution_count": 2,
   "metadata": {},
   "outputs": [],
   "source": [
    "df1 = pd.read_csv('Trump/Tweets/trump_tweets_jan.csv',lineterminator='\\n')\n",
    "df2 = pd.read_csv('Trump/Tweets/trump_tweets_feb.csv',lineterminator='\\n')\n",
    "df3 = pd.read_csv('Trump/Tweets/trump_tweets_march.csv',lineterminator='\\n')\n",
    "df4 = pd.read_csv('Trump/Tweets/trump_tweets_april.csv',lineterminator='\\n')\n",
    "df5 = pd.read_csv('Republican/Tweets/rep_tweets_jan.csv',lineterminator='\\n')\n",
    "df5 = pd.read_csv('Republican/Tweets/rep_tweets_feb.csv',lineterminator='\\n')\n",
    "df6 = pd.read_csv('Republican/Tweets/rep_tweets_march.csv',lineterminator='\\n')\n",
    "df7 = pd.read_csv('Republican/Tweets/rep_tweets_april.csv',lineterminator='\\n')\n",
    "df8 = pd.read_csv('Republican/Tweets/rep_tweets_may.csv',lineterminator='\\n')\n",
    "df9 = pd.read_csv('Republican/Tweets/rep_tweets_june.csv',lineterminator='\\n')\n",
    "df10 = pd.read_csv('Republican/Tweets/rep_tweets_july.csv',lineterminator='\\n')\n",
    "df11 = pd.read_csv('Republican/Tweets/rep_tweets_aug.csv',lineterminator='\\n')\n",
    "df12 = pd.read_csv('Republican/Tweets/rep_tweets_sep.csv',lineterminator='\\n')\n",
    "df13 = pd.read_csv('Republican/Tweets/rep_tweets_oct.csv',lineterminator='\\n')\n"
   ]
  },
  {
   "cell_type": "code",
   "execution_count": 3,
   "metadata": {},
   "outputs": [
    {
     "name": "stderr",
     "output_type": "stream",
     "text": [
      "/opt/anaconda3/lib/python3.7/site-packages/ipykernel_launcher.py:1: FutureWarning: Sorting because non-concatenation axis is not aligned. A future version\n",
      "of pandas will change to not sort by default.\n",
      "\n",
      "To accept the future behavior, pass 'sort=False'.\n",
      "\n",
      "To retain the current behavior and silence the warning, pass 'sort=True'.\n",
      "\n",
      "  \"\"\"Entry point for launching an IPython kernel.\n"
     ]
    },
    {
     "data": {
      "text/plain": [
       "(3031918, 8)"
      ]
     },
     "execution_count": 3,
     "metadata": {},
     "output_type": "execute_result"
    }
   ],
   "source": [
    "df_total = pd.concat([df1, df2, df3, df4, df5, df6, df7, df8, df9, df10, df11, df12, df13])\n",
    "df_total.shape"
   ]
  },
  {
   "cell_type": "code",
   "execution_count": 4,
   "metadata": {},
   "outputs": [
    {
     "name": "stdout",
     "output_type": "stream",
     "text": [
      "I collected 3031918 tweets.\n"
     ]
    }
   ],
   "source": [
    "Corpus = df_total.copy()\n",
    "print('I collected {} tweets.'.format(len(Corpus)))"
   ]
  },
  {
   "cell_type": "markdown",
   "metadata": {},
   "source": [
    "### Data Processing"
   ]
  },
  {
   "cell_type": "markdown",
   "metadata": {},
   "source": [
    "#### Converting to lowercase"
   ]
  },
  {
   "cell_type": "code",
   "execution_count": 5,
   "metadata": {},
   "outputs": [
    {
     "data": {
      "text/html": [
       "<div>\n",
       "<style scoped>\n",
       "    .dataframe tbody tr th:only-of-type {\n",
       "        vertical-align: middle;\n",
       "    }\n",
       "\n",
       "    .dataframe tbody tr th {\n",
       "        vertical-align: top;\n",
       "    }\n",
       "\n",
       "    .dataframe thead th {\n",
       "        text-align: right;\n",
       "    }\n",
       "</style>\n",
       "<table border=\"1\" class=\"dataframe\">\n",
       "  <thead>\n",
       "    <tr style=\"text-align: right;\">\n",
       "      <th></th>\n",
       "      <th>Unnamed: 0</th>\n",
       "      <th>coordinates</th>\n",
       "      <th>date</th>\n",
       "      <th>location</th>\n",
       "      <th>place</th>\n",
       "      <th>screen_name</th>\n",
       "      <th>tweet</th>\n",
       "      <th>tweet_id</th>\n",
       "      <th>lowercase</th>\n",
       "    </tr>\n",
       "  </thead>\n",
       "  <tbody>\n",
       "    <tr>\n",
       "      <td>0</td>\n",
       "      <td>0.0</td>\n",
       "      <td>NaN</td>\n",
       "      <td>2020-01-13 23:59:43</td>\n",
       "      <td>NaN</td>\n",
       "      <td>NaN</td>\n",
       "      <td>Lyngvie1</td>\n",
       "      <td>As usual, trump is totally wrong.\\n\\n#trump’s ...</td>\n",
       "      <td>1.2168724838669804e+18</td>\n",
       "      <td>as usual, trump is totally wrong. #trump’s fri...</td>\n",
       "    </tr>\n",
       "    <tr>\n",
       "      <td>1</td>\n",
       "      <td>1.0</td>\n",
       "      <td>NaN</td>\n",
       "      <td>2020-01-13 23:54:27</td>\n",
       "      <td>NaN</td>\n",
       "      <td>NaN</td>\n",
       "      <td>NKossovan</td>\n",
       "      <td>@globalnews Here the logic of accusing #Trump ...</td>\n",
       "      <td>1.2168711617802609e+18</td>\n",
       "      <td>@globalnews here the logic of accusing #trump ...</td>\n",
       "    </tr>\n",
       "    <tr>\n",
       "      <td>2</td>\n",
       "      <td>2.0</td>\n",
       "      <td>NaN</td>\n",
       "      <td>2020-01-13 23:57:19</td>\n",
       "      <td>NaN</td>\n",
       "      <td>NaN</td>\n",
       "      <td>blondefrog123</td>\n",
       "      <td>@hrtablaze @Steelelwalker Next Stop:  Donald #...</td>\n",
       "      <td>1.216871879148888e+18</td>\n",
       "      <td>@hrtablaze @steelelwalker next stop: donald #t...</td>\n",
       "    </tr>\n",
       "    <tr>\n",
       "      <td>3</td>\n",
       "      <td>3.0</td>\n",
       "      <td>NaN</td>\n",
       "      <td>2020-01-13 23:57:18</td>\n",
       "      <td>NaN</td>\n",
       "      <td>NaN</td>\n",
       "      <td>news_mideast</td>\n",
       "      <td>US to Work With Iraq on Possible Troop Reducti...</td>\n",
       "      <td>1.2168718777690726e+18</td>\n",
       "      <td>us to work with iraq on possible troop reducti...</td>\n",
       "    </tr>\n",
       "    <tr>\n",
       "      <td>4</td>\n",
       "      <td>4.0</td>\n",
       "      <td>NaN</td>\n",
       "      <td>2020-01-13 23:59:38</td>\n",
       "      <td>NaN</td>\n",
       "      <td>NaN</td>\n",
       "      <td>Ninavictoria_10</td>\n",
       "      <td>#Trump is so dam immature. And very unfit to b...</td>\n",
       "      <td>1.2168724634489938e+18</td>\n",
       "      <td>#trump is so dam immature. and very unfit to b...</td>\n",
       "    </tr>\n",
       "  </tbody>\n",
       "</table>\n",
       "</div>"
      ],
      "text/plain": [
       "   Unnamed: 0 coordinates                 date location place  \\\n",
       "0         0.0         NaN  2020-01-13 23:59:43      NaN   NaN   \n",
       "1         1.0         NaN  2020-01-13 23:54:27      NaN   NaN   \n",
       "2         2.0         NaN  2020-01-13 23:57:19      NaN   NaN   \n",
       "3         3.0         NaN  2020-01-13 23:57:18      NaN   NaN   \n",
       "4         4.0         NaN  2020-01-13 23:59:38      NaN   NaN   \n",
       "\n",
       "       screen_name                                              tweet  \\\n",
       "0         Lyngvie1  As usual, trump is totally wrong.\\n\\n#trump’s ...   \n",
       "1        NKossovan  @globalnews Here the logic of accusing #Trump ...   \n",
       "2    blondefrog123  @hrtablaze @Steelelwalker Next Stop:  Donald #...   \n",
       "3     news_mideast  US to Work With Iraq on Possible Troop Reducti...   \n",
       "4  Ninavictoria_10  #Trump is so dam immature. And very unfit to b...   \n",
       "\n",
       "                 tweet_id                                          lowercase  \n",
       "0  1.2168724838669804e+18  as usual, trump is totally wrong. #trump’s fri...  \n",
       "1  1.2168711617802609e+18  @globalnews here the logic of accusing #trump ...  \n",
       "2   1.216871879148888e+18  @hrtablaze @steelelwalker next stop: donald #t...  \n",
       "3  1.2168718777690726e+18  us to work with iraq on possible troop reducti...  \n",
       "4  1.2168724634489938e+18  #trump is so dam immature. and very unfit to b...  "
      ]
     },
     "execution_count": 5,
     "metadata": {},
     "output_type": "execute_result"
    }
   ],
   "source": [
    "#converting all data to lowercase\n",
    "df_total['lowercase']=df_total['tweet'].apply(lambda x: \" \".join(word.lower() for word in x.split()))\n",
    "df_total.head()"
   ]
  },
  {
   "cell_type": "code",
   "execution_count": 6,
   "metadata": {},
   "outputs": [
    {
     "data": {
      "text/html": [
       "<div>\n",
       "<style scoped>\n",
       "    .dataframe tbody tr th:only-of-type {\n",
       "        vertical-align: middle;\n",
       "    }\n",
       "\n",
       "    .dataframe tbody tr th {\n",
       "        vertical-align: top;\n",
       "    }\n",
       "\n",
       "    .dataframe thead th {\n",
       "        text-align: right;\n",
       "    }\n",
       "</style>\n",
       "<table border=\"1\" class=\"dataframe\">\n",
       "  <thead>\n",
       "    <tr style=\"text-align: right;\">\n",
       "      <th></th>\n",
       "      <th>Unnamed: 0</th>\n",
       "      <th>coordinates</th>\n",
       "      <th>date</th>\n",
       "      <th>location</th>\n",
       "      <th>place</th>\n",
       "      <th>screen_name</th>\n",
       "      <th>tweet</th>\n",
       "      <th>tweet_id</th>\n",
       "      <th>lowercase</th>\n",
       "      <th>punctuation</th>\n",
       "    </tr>\n",
       "  </thead>\n",
       "  <tbody>\n",
       "    <tr>\n",
       "      <td>0</td>\n",
       "      <td>0.0</td>\n",
       "      <td>NaN</td>\n",
       "      <td>2020-01-13 23:59:43</td>\n",
       "      <td>NaN</td>\n",
       "      <td>NaN</td>\n",
       "      <td>Lyngvie1</td>\n",
       "      <td>As usual, trump is totally wrong.\\n\\n#trump’s ...</td>\n",
       "      <td>1.2168724838669804e+18</td>\n",
       "      <td>as usual, trump is totally wrong. #trump’s fri...</td>\n",
       "      <td>as usual trump is totally wrong trumps frighte...</td>\n",
       "    </tr>\n",
       "    <tr>\n",
       "      <td>1</td>\n",
       "      <td>1.0</td>\n",
       "      <td>NaN</td>\n",
       "      <td>2020-01-13 23:54:27</td>\n",
       "      <td>NaN</td>\n",
       "      <td>NaN</td>\n",
       "      <td>NKossovan</td>\n",
       "      <td>@globalnews Here the logic of accusing #Trump ...</td>\n",
       "      <td>1.2168711617802609e+18</td>\n",
       "      <td>@globalnews here the logic of accusing #trump ...</td>\n",
       "      <td>globalnews here the logic of accusing trump fo...</td>\n",
       "    </tr>\n",
       "    <tr>\n",
       "      <td>2</td>\n",
       "      <td>2.0</td>\n",
       "      <td>NaN</td>\n",
       "      <td>2020-01-13 23:57:19</td>\n",
       "      <td>NaN</td>\n",
       "      <td>NaN</td>\n",
       "      <td>blondefrog123</td>\n",
       "      <td>@hrtablaze @Steelelwalker Next Stop:  Donald #...</td>\n",
       "      <td>1.216871879148888e+18</td>\n",
       "      <td>@hrtablaze @steelelwalker next stop: donald #t...</td>\n",
       "      <td>hrtablaze steelelwalker next stop donald trump...</td>\n",
       "    </tr>\n",
       "    <tr>\n",
       "      <td>3</td>\n",
       "      <td>3.0</td>\n",
       "      <td>NaN</td>\n",
       "      <td>2020-01-13 23:57:18</td>\n",
       "      <td>NaN</td>\n",
       "      <td>NaN</td>\n",
       "      <td>news_mideast</td>\n",
       "      <td>US to Work With Iraq on Possible Troop Reducti...</td>\n",
       "      <td>1.2168718777690726e+18</td>\n",
       "      <td>us to work with iraq on possible troop reducti...</td>\n",
       "      <td>us to work with iraq on possible troop reducti...</td>\n",
       "    </tr>\n",
       "    <tr>\n",
       "      <td>4</td>\n",
       "      <td>4.0</td>\n",
       "      <td>NaN</td>\n",
       "      <td>2020-01-13 23:59:38</td>\n",
       "      <td>NaN</td>\n",
       "      <td>NaN</td>\n",
       "      <td>Ninavictoria_10</td>\n",
       "      <td>#Trump is so dam immature. And very unfit to b...</td>\n",
       "      <td>1.2168724634489938e+18</td>\n",
       "      <td>#trump is so dam immature. and very unfit to b...</td>\n",
       "      <td>trump is so dam immature and very unfit to be ...</td>\n",
       "    </tr>\n",
       "  </tbody>\n",
       "</table>\n",
       "</div>"
      ],
      "text/plain": [
       "   Unnamed: 0 coordinates                 date location place  \\\n",
       "0         0.0         NaN  2020-01-13 23:59:43      NaN   NaN   \n",
       "1         1.0         NaN  2020-01-13 23:54:27      NaN   NaN   \n",
       "2         2.0         NaN  2020-01-13 23:57:19      NaN   NaN   \n",
       "3         3.0         NaN  2020-01-13 23:57:18      NaN   NaN   \n",
       "4         4.0         NaN  2020-01-13 23:59:38      NaN   NaN   \n",
       "\n",
       "       screen_name                                              tweet  \\\n",
       "0         Lyngvie1  As usual, trump is totally wrong.\\n\\n#trump’s ...   \n",
       "1        NKossovan  @globalnews Here the logic of accusing #Trump ...   \n",
       "2    blondefrog123  @hrtablaze @Steelelwalker Next Stop:  Donald #...   \n",
       "3     news_mideast  US to Work With Iraq on Possible Troop Reducti...   \n",
       "4  Ninavictoria_10  #Trump is so dam immature. And very unfit to b...   \n",
       "\n",
       "                 tweet_id                                          lowercase  \\\n",
       "0  1.2168724838669804e+18  as usual, trump is totally wrong. #trump’s fri...   \n",
       "1  1.2168711617802609e+18  @globalnews here the logic of accusing #trump ...   \n",
       "2   1.216871879148888e+18  @hrtablaze @steelelwalker next stop: donald #t...   \n",
       "3  1.2168718777690726e+18  us to work with iraq on possible troop reducti...   \n",
       "4  1.2168724634489938e+18  #trump is so dam immature. and very unfit to b...   \n",
       "\n",
       "                                         punctuation  \n",
       "0  as usual trump is totally wrong trumps frighte...  \n",
       "1  globalnews here the logic of accusing trump fo...  \n",
       "2  hrtablaze steelelwalker next stop donald trump...  \n",
       "3  us to work with iraq on possible troop reducti...  \n",
       "4  trump is so dam immature and very unfit to be ...  "
      ]
     },
     "execution_count": 6,
     "metadata": {},
     "output_type": "execute_result"
    }
   ],
   "source": [
    "df_total['punctuation']=df_total['lowercase'].str.replace('[^\\w\\s]','')\n",
    "df_total.head()"
   ]
  },
  {
   "cell_type": "markdown",
   "metadata": {},
   "source": [
    "#### Removing Stopwords"
   ]
  },
  {
   "cell_type": "code",
   "execution_count": 7,
   "metadata": {},
   "outputs": [
    {
     "data": {
      "text/plain": [
       "['i',\n",
       " 'me',\n",
       " 'my',\n",
       " 'myself',\n",
       " 'we',\n",
       " 'our',\n",
       " 'ours',\n",
       " 'ourselves',\n",
       " 'you',\n",
       " \"you're\",\n",
       " \"you've\",\n",
       " \"you'll\",\n",
       " \"you'd\",\n",
       " 'your',\n",
       " 'yours',\n",
       " 'yourself',\n",
       " 'yourselves',\n",
       " 'he',\n",
       " 'him',\n",
       " 'his',\n",
       " 'himself',\n",
       " 'she',\n",
       " \"she's\",\n",
       " 'her',\n",
       " 'hers',\n",
       " 'herself',\n",
       " 'it',\n",
       " \"it's\",\n",
       " 'its',\n",
       " 'itself',\n",
       " 'they',\n",
       " 'them',\n",
       " 'their',\n",
       " 'theirs',\n",
       " 'themselves',\n",
       " 'what',\n",
       " 'which',\n",
       " 'who',\n",
       " 'whom',\n",
       " 'this',\n",
       " 'that',\n",
       " \"that'll\",\n",
       " 'these',\n",
       " 'those',\n",
       " 'am',\n",
       " 'is',\n",
       " 'are',\n",
       " 'was',\n",
       " 'were',\n",
       " 'be',\n",
       " 'been',\n",
       " 'being',\n",
       " 'have',\n",
       " 'has',\n",
       " 'had',\n",
       " 'having',\n",
       " 'do',\n",
       " 'does',\n",
       " 'did',\n",
       " 'doing',\n",
       " 'a',\n",
       " 'an',\n",
       " 'the',\n",
       " 'and',\n",
       " 'but',\n",
       " 'if',\n",
       " 'or',\n",
       " 'because',\n",
       " 'as',\n",
       " 'until',\n",
       " 'while',\n",
       " 'of',\n",
       " 'at',\n",
       " 'by',\n",
       " 'for',\n",
       " 'with',\n",
       " 'about',\n",
       " 'against',\n",
       " 'between',\n",
       " 'into',\n",
       " 'through',\n",
       " 'during',\n",
       " 'before',\n",
       " 'after',\n",
       " 'above',\n",
       " 'below',\n",
       " 'to',\n",
       " 'from',\n",
       " 'up',\n",
       " 'down',\n",
       " 'in',\n",
       " 'out',\n",
       " 'on',\n",
       " 'off',\n",
       " 'over',\n",
       " 'under',\n",
       " 'again',\n",
       " 'further',\n",
       " 'then',\n",
       " 'once',\n",
       " 'here',\n",
       " 'there',\n",
       " 'when',\n",
       " 'where',\n",
       " 'why',\n",
       " 'how',\n",
       " 'all',\n",
       " 'any',\n",
       " 'both',\n",
       " 'each',\n",
       " 'few',\n",
       " 'more',\n",
       " 'most',\n",
       " 'other',\n",
       " 'some',\n",
       " 'such',\n",
       " 'no',\n",
       " 'nor',\n",
       " 'not',\n",
       " 'only',\n",
       " 'own',\n",
       " 'same',\n",
       " 'so',\n",
       " 'than',\n",
       " 'too',\n",
       " 'very',\n",
       " 's',\n",
       " 't',\n",
       " 'can',\n",
       " 'will',\n",
       " 'just',\n",
       " 'don',\n",
       " \"don't\",\n",
       " 'should',\n",
       " \"should've\",\n",
       " 'now',\n",
       " 'd',\n",
       " 'll',\n",
       " 'm',\n",
       " 'o',\n",
       " 're',\n",
       " 've',\n",
       " 'y',\n",
       " 'ain',\n",
       " 'aren',\n",
       " \"aren't\",\n",
       " 'couldn',\n",
       " \"couldn't\",\n",
       " 'didn',\n",
       " \"didn't\",\n",
       " 'doesn',\n",
       " \"doesn't\",\n",
       " 'hadn',\n",
       " \"hadn't\",\n",
       " 'hasn',\n",
       " \"hasn't\",\n",
       " 'haven',\n",
       " \"haven't\",\n",
       " 'isn',\n",
       " \"isn't\",\n",
       " 'ma',\n",
       " 'mightn',\n",
       " \"mightn't\",\n",
       " 'mustn',\n",
       " \"mustn't\",\n",
       " 'needn',\n",
       " \"needn't\",\n",
       " 'shan',\n",
       " \"shan't\",\n",
       " 'shouldn',\n",
       " \"shouldn't\",\n",
       " 'wasn',\n",
       " \"wasn't\",\n",
       " 'weren',\n",
       " \"weren't\",\n",
       " 'won',\n",
       " \"won't\",\n",
       " 'wouldn',\n",
       " \"wouldn't\"]"
      ]
     },
     "execution_count": 7,
     "metadata": {},
     "output_type": "execute_result"
    }
   ],
   "source": [
    "stop_words=stopwords.words('english')\n",
    "stop_words"
   ]
  },
  {
   "cell_type": "code",
   "execution_count": 8,
   "metadata": {},
   "outputs": [
    {
     "data": {
      "text/html": [
       "<div>\n",
       "<style scoped>\n",
       "    .dataframe tbody tr th:only-of-type {\n",
       "        vertical-align: middle;\n",
       "    }\n",
       "\n",
       "    .dataframe tbody tr th {\n",
       "        vertical-align: top;\n",
       "    }\n",
       "\n",
       "    .dataframe thead th {\n",
       "        text-align: right;\n",
       "    }\n",
       "</style>\n",
       "<table border=\"1\" class=\"dataframe\">\n",
       "  <thead>\n",
       "    <tr style=\"text-align: right;\">\n",
       "      <th></th>\n",
       "      <th>Unnamed: 0</th>\n",
       "      <th>coordinates</th>\n",
       "      <th>date</th>\n",
       "      <th>location</th>\n",
       "      <th>place</th>\n",
       "      <th>screen_name</th>\n",
       "      <th>tweet</th>\n",
       "      <th>tweet_id</th>\n",
       "      <th>lowercase</th>\n",
       "      <th>punctuation</th>\n",
       "      <th>stopwords</th>\n",
       "    </tr>\n",
       "  </thead>\n",
       "  <tbody>\n",
       "    <tr>\n",
       "      <td>0</td>\n",
       "      <td>0.0</td>\n",
       "      <td>NaN</td>\n",
       "      <td>2020-01-13 23:59:43</td>\n",
       "      <td>NaN</td>\n",
       "      <td>NaN</td>\n",
       "      <td>Lyngvie1</td>\n",
       "      <td>As usual, trump is totally wrong.\\n\\n#trump’s ...</td>\n",
       "      <td>1.2168724838669804e+18</td>\n",
       "      <td>as usual, trump is totally wrong. #trump’s fri...</td>\n",
       "      <td>as usual trump is totally wrong trumps frighte...</td>\n",
       "      <td>usual trump totally wrong trumps frightening v...</td>\n",
       "    </tr>\n",
       "    <tr>\n",
       "      <td>1</td>\n",
       "      <td>1.0</td>\n",
       "      <td>NaN</td>\n",
       "      <td>2020-01-13 23:54:27</td>\n",
       "      <td>NaN</td>\n",
       "      <td>NaN</td>\n",
       "      <td>NKossovan</td>\n",
       "      <td>@globalnews Here the logic of accusing #Trump ...</td>\n",
       "      <td>1.2168711617802609e+18</td>\n",
       "      <td>@globalnews here the logic of accusing #trump ...</td>\n",
       "      <td>globalnews here the logic of accusing trump fo...</td>\n",
       "      <td>globalnews logic accusing trump iranplaneshoot...</td>\n",
       "    </tr>\n",
       "    <tr>\n",
       "      <td>2</td>\n",
       "      <td>2.0</td>\n",
       "      <td>NaN</td>\n",
       "      <td>2020-01-13 23:57:19</td>\n",
       "      <td>NaN</td>\n",
       "      <td>NaN</td>\n",
       "      <td>blondefrog123</td>\n",
       "      <td>@hrtablaze @Steelelwalker Next Stop:  Donald #...</td>\n",
       "      <td>1.216871879148888e+18</td>\n",
       "      <td>@hrtablaze @steelelwalker next stop: donald #t...</td>\n",
       "      <td>hrtablaze steelelwalker next stop donald trump...</td>\n",
       "      <td>hrtablaze steelelwalker next stop donald trump...</td>\n",
       "    </tr>\n",
       "    <tr>\n",
       "      <td>3</td>\n",
       "      <td>3.0</td>\n",
       "      <td>NaN</td>\n",
       "      <td>2020-01-13 23:57:18</td>\n",
       "      <td>NaN</td>\n",
       "      <td>NaN</td>\n",
       "      <td>news_mideast</td>\n",
       "      <td>US to Work With Iraq on Possible Troop Reducti...</td>\n",
       "      <td>1.2168718777690726e+18</td>\n",
       "      <td>us to work with iraq on possible troop reducti...</td>\n",
       "      <td>us to work with iraq on possible troop reducti...</td>\n",
       "      <td>us work iraq possible troop reduction usa trum...</td>\n",
       "    </tr>\n",
       "    <tr>\n",
       "      <td>4</td>\n",
       "      <td>4.0</td>\n",
       "      <td>NaN</td>\n",
       "      <td>2020-01-13 23:59:38</td>\n",
       "      <td>NaN</td>\n",
       "      <td>NaN</td>\n",
       "      <td>Ninavictoria_10</td>\n",
       "      <td>#Trump is so dam immature. And very unfit to b...</td>\n",
       "      <td>1.2168724634489938e+18</td>\n",
       "      <td>#trump is so dam immature. and very unfit to b...</td>\n",
       "      <td>trump is so dam immature and very unfit to be ...</td>\n",
       "      <td>trump dam immature unfit president country ame...</td>\n",
       "    </tr>\n",
       "  </tbody>\n",
       "</table>\n",
       "</div>"
      ],
      "text/plain": [
       "   Unnamed: 0 coordinates                 date location place  \\\n",
       "0         0.0         NaN  2020-01-13 23:59:43      NaN   NaN   \n",
       "1         1.0         NaN  2020-01-13 23:54:27      NaN   NaN   \n",
       "2         2.0         NaN  2020-01-13 23:57:19      NaN   NaN   \n",
       "3         3.0         NaN  2020-01-13 23:57:18      NaN   NaN   \n",
       "4         4.0         NaN  2020-01-13 23:59:38      NaN   NaN   \n",
       "\n",
       "       screen_name                                              tweet  \\\n",
       "0         Lyngvie1  As usual, trump is totally wrong.\\n\\n#trump’s ...   \n",
       "1        NKossovan  @globalnews Here the logic of accusing #Trump ...   \n",
       "2    blondefrog123  @hrtablaze @Steelelwalker Next Stop:  Donald #...   \n",
       "3     news_mideast  US to Work With Iraq on Possible Troop Reducti...   \n",
       "4  Ninavictoria_10  #Trump is so dam immature. And very unfit to b...   \n",
       "\n",
       "                 tweet_id                                          lowercase  \\\n",
       "0  1.2168724838669804e+18  as usual, trump is totally wrong. #trump’s fri...   \n",
       "1  1.2168711617802609e+18  @globalnews here the logic of accusing #trump ...   \n",
       "2   1.216871879148888e+18  @hrtablaze @steelelwalker next stop: donald #t...   \n",
       "3  1.2168718777690726e+18  us to work with iraq on possible troop reducti...   \n",
       "4  1.2168724634489938e+18  #trump is so dam immature. and very unfit to b...   \n",
       "\n",
       "                                         punctuation  \\\n",
       "0  as usual trump is totally wrong trumps frighte...   \n",
       "1  globalnews here the logic of accusing trump fo...   \n",
       "2  hrtablaze steelelwalker next stop donald trump...   \n",
       "3  us to work with iraq on possible troop reducti...   \n",
       "4  trump is so dam immature and very unfit to be ...   \n",
       "\n",
       "                                           stopwords  \n",
       "0  usual trump totally wrong trumps frightening v...  \n",
       "1  globalnews logic accusing trump iranplaneshoot...  \n",
       "2  hrtablaze steelelwalker next stop donald trump...  \n",
       "3  us work iraq possible troop reduction usa trum...  \n",
       "4  trump dam immature unfit president country ame...  "
      ]
     },
     "execution_count": 8,
     "metadata": {},
     "output_type": "execute_result"
    }
   ],
   "source": [
    "df_total['stopwords']=df_total['punctuation'].apply(lambda x: \" \".join(word for word in x.split()if word not in stop_words))\n",
    "df_total.head()"
   ]
  },
  {
   "cell_type": "markdown",
   "metadata": {},
   "source": [
    "#### Lemmatization"
   ]
  },
  {
   "cell_type": "code",
   "execution_count": 9,
   "metadata": {},
   "outputs": [],
   "source": [
    "#import Textblob\n",
    "from textblob import TextBlob \n",
    "from textblob import Word"
   ]
  },
  {
   "cell_type": "code",
   "execution_count": 10,
   "metadata": {},
   "outputs": [],
   "source": [
    "df_total['lemmatize']=df_total['stopwords'].apply(lambda x:\" \".join(Word(word).lemmatize() for word in x.split()))"
   ]
  },
  {
   "cell_type": "code",
   "execution_count": 11,
   "metadata": {},
   "outputs": [],
   "source": [
    "df_total['polarity']=df_total['lemmatize'].apply(lambda x: TextBlob(x).sentiment[0])## just got polarity"
   ]
  },
  {
   "cell_type": "code",
   "execution_count": 12,
   "metadata": {},
   "outputs": [],
   "source": [
    "#df_total['subjectivity']=df_total['lemmatize'].apply(lambda x: TextBlob(x).sentiment[1])## just got polarity"
   ]
  },
  {
   "cell_type": "code",
   "execution_count": 13,
   "metadata": {},
   "outputs": [
    {
     "data": {
      "text/html": [
       "<div>\n",
       "<style scoped>\n",
       "    .dataframe tbody tr th:only-of-type {\n",
       "        vertical-align: middle;\n",
       "    }\n",
       "\n",
       "    .dataframe tbody tr th {\n",
       "        vertical-align: top;\n",
       "    }\n",
       "\n",
       "    .dataframe thead th {\n",
       "        text-align: right;\n",
       "    }\n",
       "</style>\n",
       "<table border=\"1\" class=\"dataframe\">\n",
       "  <thead>\n",
       "    <tr style=\"text-align: right;\">\n",
       "      <th></th>\n",
       "      <th>Unnamed: 0</th>\n",
       "      <th>coordinates</th>\n",
       "      <th>date</th>\n",
       "      <th>location</th>\n",
       "      <th>place</th>\n",
       "      <th>screen_name</th>\n",
       "      <th>tweet</th>\n",
       "      <th>tweet_id</th>\n",
       "      <th>lowercase</th>\n",
       "      <th>punctuation</th>\n",
       "      <th>stopwords</th>\n",
       "      <th>lemmatize</th>\n",
       "      <th>polarity</th>\n",
       "    </tr>\n",
       "  </thead>\n",
       "  <tbody>\n",
       "    <tr>\n",
       "      <td>0</td>\n",
       "      <td>0.0</td>\n",
       "      <td>NaN</td>\n",
       "      <td>2020-01-13 23:59:43</td>\n",
       "      <td>NaN</td>\n",
       "      <td>NaN</td>\n",
       "      <td>Lyngvie1</td>\n",
       "      <td>As usual, trump is totally wrong.\\n\\n#trump’s ...</td>\n",
       "      <td>1.2168724838669804e+18</td>\n",
       "      <td>as usual, trump is totally wrong. #trump’s fri...</td>\n",
       "      <td>as usual trump is totally wrong trumps frighte...</td>\n",
       "      <td>usual trump totally wrong trumps frightening v...</td>\n",
       "      <td>usual trump totally wrong trump frightening vi...</td>\n",
       "      <td>0.03</td>\n",
       "    </tr>\n",
       "    <tr>\n",
       "      <td>1</td>\n",
       "      <td>1.0</td>\n",
       "      <td>NaN</td>\n",
       "      <td>2020-01-13 23:54:27</td>\n",
       "      <td>NaN</td>\n",
       "      <td>NaN</td>\n",
       "      <td>NKossovan</td>\n",
       "      <td>@globalnews Here the logic of accusing #Trump ...</td>\n",
       "      <td>1.2168711617802609e+18</td>\n",
       "      <td>@globalnews here the logic of accusing #trump ...</td>\n",
       "      <td>globalnews here the logic of accusing trump fo...</td>\n",
       "      <td>globalnews logic accusing trump iranplaneshoot...</td>\n",
       "      <td>globalnews logic accusing trump iranplaneshoot...</td>\n",
       "      <td>0.00</td>\n",
       "    </tr>\n",
       "    <tr>\n",
       "      <td>2</td>\n",
       "      <td>2.0</td>\n",
       "      <td>NaN</td>\n",
       "      <td>2020-01-13 23:57:19</td>\n",
       "      <td>NaN</td>\n",
       "      <td>NaN</td>\n",
       "      <td>blondefrog123</td>\n",
       "      <td>@hrtablaze @Steelelwalker Next Stop:  Donald #...</td>\n",
       "      <td>1.216871879148888e+18</td>\n",
       "      <td>@hrtablaze @steelelwalker next stop: donald #t...</td>\n",
       "      <td>hrtablaze steelelwalker next stop donald trump...</td>\n",
       "      <td>hrtablaze steelelwalker next stop donald trump...</td>\n",
       "      <td>hrtablaze steelelwalker next stop donald trump...</td>\n",
       "      <td>0.00</td>\n",
       "    </tr>\n",
       "    <tr>\n",
       "      <td>3</td>\n",
       "      <td>3.0</td>\n",
       "      <td>NaN</td>\n",
       "      <td>2020-01-13 23:57:18</td>\n",
       "      <td>NaN</td>\n",
       "      <td>NaN</td>\n",
       "      <td>news_mideast</td>\n",
       "      <td>US to Work With Iraq on Possible Troop Reducti...</td>\n",
       "      <td>1.2168718777690726e+18</td>\n",
       "      <td>us to work with iraq on possible troop reducti...</td>\n",
       "      <td>us to work with iraq on possible troop reducti...</td>\n",
       "      <td>us work iraq possible troop reduction usa trum...</td>\n",
       "      <td>u work iraq possible troop reduction usa trump...</td>\n",
       "      <td>0.00</td>\n",
       "    </tr>\n",
       "    <tr>\n",
       "      <td>4</td>\n",
       "      <td>4.0</td>\n",
       "      <td>NaN</td>\n",
       "      <td>2020-01-13 23:59:38</td>\n",
       "      <td>NaN</td>\n",
       "      <td>NaN</td>\n",
       "      <td>Ninavictoria_10</td>\n",
       "      <td>#Trump is so dam immature. And very unfit to b...</td>\n",
       "      <td>1.2168724634489938e+18</td>\n",
       "      <td>#trump is so dam immature. and very unfit to b...</td>\n",
       "      <td>trump is so dam immature and very unfit to be ...</td>\n",
       "      <td>trump dam immature unfit president country ame...</td>\n",
       "      <td>trump dam immature unfit president country ame...</td>\n",
       "      <td>0.00</td>\n",
       "    </tr>\n",
       "  </tbody>\n",
       "</table>\n",
       "</div>"
      ],
      "text/plain": [
       "   Unnamed: 0 coordinates                 date location place  \\\n",
       "0         0.0         NaN  2020-01-13 23:59:43      NaN   NaN   \n",
       "1         1.0         NaN  2020-01-13 23:54:27      NaN   NaN   \n",
       "2         2.0         NaN  2020-01-13 23:57:19      NaN   NaN   \n",
       "3         3.0         NaN  2020-01-13 23:57:18      NaN   NaN   \n",
       "4         4.0         NaN  2020-01-13 23:59:38      NaN   NaN   \n",
       "\n",
       "       screen_name                                              tweet  \\\n",
       "0         Lyngvie1  As usual, trump is totally wrong.\\n\\n#trump’s ...   \n",
       "1        NKossovan  @globalnews Here the logic of accusing #Trump ...   \n",
       "2    blondefrog123  @hrtablaze @Steelelwalker Next Stop:  Donald #...   \n",
       "3     news_mideast  US to Work With Iraq on Possible Troop Reducti...   \n",
       "4  Ninavictoria_10  #Trump is so dam immature. And very unfit to b...   \n",
       "\n",
       "                 tweet_id                                          lowercase  \\\n",
       "0  1.2168724838669804e+18  as usual, trump is totally wrong. #trump’s fri...   \n",
       "1  1.2168711617802609e+18  @globalnews here the logic of accusing #trump ...   \n",
       "2   1.216871879148888e+18  @hrtablaze @steelelwalker next stop: donald #t...   \n",
       "3  1.2168718777690726e+18  us to work with iraq on possible troop reducti...   \n",
       "4  1.2168724634489938e+18  #trump is so dam immature. and very unfit to b...   \n",
       "\n",
       "                                         punctuation  \\\n",
       "0  as usual trump is totally wrong trumps frighte...   \n",
       "1  globalnews here the logic of accusing trump fo...   \n",
       "2  hrtablaze steelelwalker next stop donald trump...   \n",
       "3  us to work with iraq on possible troop reducti...   \n",
       "4  trump is so dam immature and very unfit to be ...   \n",
       "\n",
       "                                           stopwords  \\\n",
       "0  usual trump totally wrong trumps frightening v...   \n",
       "1  globalnews logic accusing trump iranplaneshoot...   \n",
       "2  hrtablaze steelelwalker next stop donald trump...   \n",
       "3  us work iraq possible troop reduction usa trum...   \n",
       "4  trump dam immature unfit president country ame...   \n",
       "\n",
       "                                           lemmatize  polarity  \n",
       "0  usual trump totally wrong trump frightening vi...      0.03  \n",
       "1  globalnews logic accusing trump iranplaneshoot...      0.00  \n",
       "2  hrtablaze steelelwalker next stop donald trump...      0.00  \n",
       "3  u work iraq possible troop reduction usa trump...      0.00  \n",
       "4  trump dam immature unfit president country ame...      0.00  "
      ]
     },
     "execution_count": 13,
     "metadata": {},
     "output_type": "execute_result"
    }
   ],
   "source": [
    "df_total.head()"
   ]
  },
  {
   "cell_type": "markdown",
   "metadata": {},
   "source": [
    "### Tweets for Trump with sentiments (-1 = negative, +1 = posiitive, 0 = neutral)"
   ]
  },
  {
   "cell_type": "code",
   "execution_count": 14,
   "metadata": {},
   "outputs": [
    {
     "data": {
      "image/png": "[encoded data removed]",
      "text/plain": [
       "<Figure size 720x432 with 1 Axes>"
      ]
     },
     "metadata": {
      "needs_background": "light"
     },
     "output_type": "display_data"
    }
   ],
   "source": [
    "num_bins = 10\n",
    "plt.figure(figsize=(10,6))\n",
    "n, bins, patches = plt.hist(df_total.polarity, num_bins, facecolor='green', alpha=0.5)\n",
    "plt.xlabel('Polarity')\n",
    "plt.ylabel('Count')\n",
    "plt.title('Histogram of Tweets sentiments (-1 = negative, +1 = posiitive, 0 = neutral)')\n",
    "plt.show();"
   ]
  },
  {
   "cell_type": "code",
   "execution_count": 16,
   "metadata": {},
   "outputs": [],
   "source": [
    "import seaborn as sns"
   ]
  },
  {
   "cell_type": "code",
   "execution_count": 19,
   "metadata": {},
   "outputs": [
    {
     "data": {
      "text/plain": [
       "<matplotlib.axes._subplots.AxesSubplot at 0x7fcb1e265a90>"
      ]
     },
     "execution_count": 19,
     "metadata": {},
     "output_type": "execute_result"
    },
    {
     "data": {
      "image/png": "[encoded data removed]",
      "text/plain": [
       "<Figure size 432x288 with 1 Axes>"
      ]
     },
     "metadata": {
      "needs_background": "light"
     },
     "output_type": "display_data"
    }
   ],
   "source": [
    "sns.distplot(df_total['polarity'])"
   ]
  },
  {
   "cell_type": "code",
   "execution_count": 22,
   "metadata": {},
   "outputs": [
    {
     "name": "stdout",
     "output_type": "stream",
     "text": [
      "Total Number of Unique Locations Tweeting : 238\n"
     ]
    }
   ],
   "source": [
    "data = df_total.dropna()\n",
    "print('Total Number of Unique Locations Tweeting :',len(data['location'].unique()))"
   ]
  },
  {
   "cell_type": "markdown",
   "metadata": {},
   "source": [
    "#### Top 20 Locations Tweeting about Trump"
   ]
  },
  {
   "cell_type": "code",
   "execution_count": 23,
   "metadata": {},
   "outputs": [],
   "source": [
    "top20 = data['location'].value_counts()\n",
    "top20 = top20[0:20]\n",
    "top20 = top20.to_frame().reset_index()\n",
    "top20.rename(columns = {'index':'location','location':'counts'}, inplace = True) "
   ]
  },
  {
   "cell_type": "code",
   "execution_count": 24,
   "metadata": {},
   "outputs": [
    {
     "data": {
      "image/png": "[encoded data removed]",
      "text/plain": [
       "<Figure size 1080x720 with 1 Axes>"
      ]
     },
     "metadata": {},
     "output_type": "display_data"
    }
   ],
   "source": [
    "sns.barplot(y=\"location\", x=\"counts\", data=top20)\n",
    "sns.set(rc={'figure.figsize':(15,10)})"
   ]
  },
  {
   "cell_type": "code",
   "execution_count": 25,
   "metadata": {},
   "outputs": [
    {
     "data": {
      "text/plain": [
       "252800           Botswana/Gaborone\n",
       "203490               New York City\n",
       "345653    ÜT: 39.779085,-89.704634\n",
       "268211              Cordova TN USA\n",
       "244349                Georgia, USA\n",
       "25267              Cobb County, GA\n",
       "48938                  Seattle, WA\n",
       "217680              Gettysburg, PA\n",
       "23140            Seat Pleasant, MD\n",
       "79217            Seat Pleasant, MD\n",
       "Name: location, dtype: object"
      ]
     },
     "execution_count": 25,
     "metadata": {},
     "output_type": "execute_result"
    }
   ],
   "source": [
    "neg_tweets = data[data['polarity']>0]\n",
    "neg_tweets = neg_tweets.sort_values(by='polarity', ascending=False)\n",
    "neg_tweets['location'][:10]"
   ]
  },
  {
   "cell_type": "code",
   "execution_count": 26,
   "metadata": {},
   "outputs": [
    {
     "data": {
      "text/plain": [
       "172913         Vancouver Washington\n",
       "383484    El Cajon, California, USA\n",
       "177021        Lowell, Massachusetts\n",
       "47601          Palm Harbor, Florida\n",
       "103680         Palm Harbor, Florida\n",
       "309503           Liverpool, England\n",
       "65101        ÜT: 52.447946,4.635865\n",
       "382402           Salt Lake City, UT\n",
       "87220         Lowell, Massachusetts\n",
       "44116          Leslieville, Toronto\n",
       "Name: location, dtype: object"
      ]
     },
     "execution_count": 26,
     "metadata": {},
     "output_type": "execute_result"
    }
   ],
   "source": [
    "pos_tweets = data[data['polarity']<0]\n",
    "pos_tweets = pos_tweets.sort_values(by='polarity', ascending=False)\n",
    "pos_tweets['location'][:10]"
   ]
  },
  {
   "cell_type": "markdown",
   "metadata": {},
   "source": [
    "### Geolocation - not used"
   ]
  },
  {
   "cell_type": "code",
   "execution_count": 48,
   "metadata": {},
   "outputs": [],
   "source": [
    "import geopandas as gpd"
   ]
  },
  {
   "cell_type": "code",
   "execution_count": 54,
   "metadata": {},
   "outputs": [],
   "source": [
    "coord = pd.notnull(df_total[\"coordinates\"])"
   ]
  },
  {
   "cell_type": "code",
   "execution_count": 61,
   "metadata": {},
   "outputs": [],
   "source": [
    "coord = df_total.loc[df_total['coordinates'].notnull()]"
   ]
  },
  {
   "cell_type": "code",
   "execution_count": 74,
   "metadata": {},
   "outputs": [
    {
     "data": {
      "text/html": [
       "<div>\n",
       "<style scoped>\n",
       "    .dataframe tbody tr th:only-of-type {\n",
       "        vertical-align: middle;\n",
       "    }\n",
       "\n",
       "    .dataframe tbody tr th {\n",
       "        vertical-align: top;\n",
       "    }\n",
       "\n",
       "    .dataframe thead th {\n",
       "        text-align: right;\n",
       "    }\n",
       "</style>\n",
       "<table border=\"1\" class=\"dataframe\">\n",
       "  <thead>\n",
       "    <tr style=\"text-align: right;\">\n",
       "      <th></th>\n",
       "      <th>FID</th>\n",
       "      <th>Program</th>\n",
       "      <th>State_Code</th>\n",
       "      <th>State_Name</th>\n",
       "      <th>Flowing_St</th>\n",
       "      <th>FID_1</th>\n",
       "      <th>geometry</th>\n",
       "    </tr>\n",
       "  </thead>\n",
       "  <tbody>\n",
       "    <tr>\n",
       "      <td>0</td>\n",
       "      <td>1</td>\n",
       "      <td>PERMIT TRACKING</td>\n",
       "      <td>AL</td>\n",
       "      <td>ALABAMA</td>\n",
       "      <td>F</td>\n",
       "      <td>919</td>\n",
       "      <td>POLYGON ((-85.07007 31.98070, -85.11515 31.907...</td>\n",
       "    </tr>\n",
       "    <tr>\n",
       "      <td>1</td>\n",
       "      <td>2</td>\n",
       "      <td>None</td>\n",
       "      <td>AK</td>\n",
       "      <td>ALASKA</td>\n",
       "      <td>N</td>\n",
       "      <td>920</td>\n",
       "      <td>MULTIPOLYGON (((-161.33379 58.73325, -161.3824...</td>\n",
       "    </tr>\n",
       "    <tr>\n",
       "      <td>2</td>\n",
       "      <td>3</td>\n",
       "      <td>AZURITE</td>\n",
       "      <td>AZ</td>\n",
       "      <td>ARIZONA</td>\n",
       "      <td>F</td>\n",
       "      <td>921</td>\n",
       "      <td>POLYGON ((-114.52063 33.02771, -114.55909 33.0...</td>\n",
       "    </tr>\n",
       "    <tr>\n",
       "      <td>3</td>\n",
       "      <td>4</td>\n",
       "      <td>PDS</td>\n",
       "      <td>AR</td>\n",
       "      <td>ARKANSAS</td>\n",
       "      <td>F</td>\n",
       "      <td>922</td>\n",
       "      <td>POLYGON ((-94.46169 34.19677, -94.45262 34.508...</td>\n",
       "    </tr>\n",
       "    <tr>\n",
       "      <td>4</td>\n",
       "      <td>5</td>\n",
       "      <td>None</td>\n",
       "      <td>CA</td>\n",
       "      <td>CALIFORNIA</td>\n",
       "      <td>N</td>\n",
       "      <td>923</td>\n",
       "      <td>MULTIPOLYGON (((-121.66522 38.16929, -121.7823...</td>\n",
       "    </tr>\n",
       "  </tbody>\n",
       "</table>\n",
       "</div>"
      ],
      "text/plain": [
       "   FID          Program State_Code  State_Name Flowing_St  FID_1  \\\n",
       "0    1  PERMIT TRACKING         AL     ALABAMA          F    919   \n",
       "1    2             None         AK      ALASKA          N    920   \n",
       "2    3          AZURITE         AZ     ARIZONA          F    921   \n",
       "3    4              PDS         AR    ARKANSAS          F    922   \n",
       "4    5             None         CA  CALIFORNIA          N    923   \n",
       "\n",
       "                                            geometry  \n",
       "0  POLYGON ((-85.07007 31.98070, -85.11515 31.907...  \n",
       "1  MULTIPOLYGON (((-161.33379 58.73325, -161.3824...  \n",
       "2  POLYGON ((-114.52063 33.02771, -114.55909 33.0...  \n",
       "3  POLYGON ((-94.46169 34.19677, -94.45262 34.508...  \n",
       "4  MULTIPOLYGON (((-121.66522 38.16929, -121.7823...  "
      ]
     },
     "execution_count": 74,
     "metadata": {},
     "output_type": "execute_result"
    }
   ],
   "source": [
    "usa = gpd.read_file('states2/States_shapefile.shp')\n",
    "usa.head()"
   ]
  },
  {
   "cell_type": "code",
   "execution_count": 76,
   "metadata": {},
   "outputs": [
    {
     "data": {
      "text/plain": [
       "<matplotlib.axes._subplots.AxesSubplot at 0x7fdbed2bb450>"
      ]
     },
     "execution_count": 76,
     "metadata": {},
     "output_type": "execute_result"
    },
    {
     "data": {
      "image/png": "[encoded data removed]",
      "text/plain": [
       "<Figure size 1080x720 with 1 Axes>"
      ]
     },
     "metadata": {},
     "output_type": "display_data"
    }
   ],
   "source": [
    "usa.plot()"
   ]
  },
  {
   "cell_type": "code",
   "execution_count": 94,
   "metadata": {},
   "outputs": [],
   "source": [
    "loc =df_total['coordinates']"
   ]
  },
  {
   "cell_type": "code",
   "execution_count": 95,
   "metadata": {},
   "outputs": [],
   "source": [
    "cleanloc = [x for x in loc if str(x) != 'nan']"
   ]
  },
  {
   "cell_type": "code",
   "execution_count": 92,
   "metadata": {},
   "outputs": [],
   "source": [
    "cleanloc = [x for x in loc if str(x) != 'coordinates']"
   ]
  },
  {
   "cell_type": "code",
   "execution_count": 101,
   "metadata": {},
   "outputs": [],
   "source": [
    "coord = df_total['coordinates'].value_counts().index"
   ]
  },
  {
   "cell_type": "code",
   "execution_count": 102,
   "metadata": {},
   "outputs": [
    {
     "data": {
      "text/plain": [
       "Index(['coordinates', '{'type': 'Point', 'coordinates': [-118.2445, 34.0564]}',\n",
       "       '{'type': 'Point', 'coordinates': [-84.3889, 33.7566]}',\n",
       "       '{'type': 'Point', 'coordinates': [-77.0367, 38.8951]}',\n",
       "       '{'type': 'Point', 'coordinates': [-118.3136344, 34.09073173]}',\n",
       "       '{'type': 'Point', 'coordinates': [-74.0064, 40.7142]}',\n",
       "       '{'type': 'Point', 'coordinates': [-81.9742, 27.8989]}',\n",
       "       '{'type': 'Point', 'coordinates': [-115.149, 36.1675]}',\n",
       "       '{'type': 'Point', 'coordinates': [-82.4558, 27.9473]}',\n",
       "       '{'type': 'Point', 'coordinates': [-98.5, 29.4167]}',\n",
       "       ...\n",
       "       '{'type': 'Point', 'coordinates': [-89.9899, 34.9576]}',\n",
       "       '{'type': 'Point', 'coordinates': [-87.62558788, 41.88832518]}',\n",
       "       '{'type': 'Point', 'coordinates': [-85.8524, 41.238]}',\n",
       "       '{'type': 'Point', 'coordinates': [-95.5741171, 29.71171171]}',\n",
       "       '{'type': 'Point', 'coordinates': [-122.577452, 45.520335]}',\n",
       "       '{'type': 'Point', 'coordinates': [-115.08101287, 36.1779754]}',\n",
       "       '{'type': 'Point', 'coordinates': [-80.28091469, 25.97734614]}',\n",
       "       '{'type': 'Point', 'coordinates': [-118.33702039, 34.10172883]}',\n",
       "       '{'type': 'Point', 'coordinates': [114.35014953, 30.52502419]}',\n",
       "       '{'type': 'Point', 'coordinates': [8.6709, 50.1154]}'],\n",
       "      dtype='object', length=317)"
      ]
     },
     "execution_count": 102,
     "metadata": {},
     "output_type": "execute_result"
    }
   ],
   "source": [
    "coord"
   ]
  },
  {
   "cell_type": "code",
   "execution_count": null,
   "metadata": {},
   "outputs": [],
   "source": []
  }
 ],
 "metadata": {
  "kernelspec": {
   "display_name": "Python 3",
   "language": "python",
   "name": "python3"
  },
  "language_info": {
   "codemirror_mode": {
    "name": "ipython",
    "version": 3
   },
   "file_extension": ".py",
   "mimetype": "text/x-python",
   "name": "python",
   "nbconvert_exporter": "python",
   "pygments_lexer": "ipython3",
   "version": "3.7.4"
  }
 },
 "nbformat": 4,
 "nbformat_minor": 4
}
