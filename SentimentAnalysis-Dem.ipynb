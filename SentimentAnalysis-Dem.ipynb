{
 "cells": [
  {
   "cell_type": "code",
   "execution_count": 2,
   "metadata": {},
   "outputs": [],
   "source": [
    "import pandas as pd\n",
    "import nltk\n",
    "from nltk.tokenize import word_tokenize\n",
    "from nltk import pos_tag\n",
    "from nltk.corpus import stopwords\n",
    "from nltk.stem import WordNetLemmatizer\n",
    "import matplotlib\n",
    "import matplotlib.pyplot as plt"
   ]
  },
  {
   "cell_type": "code",
   "execution_count": 13,
   "metadata": {},
   "outputs": [],
   "source": [
    "df1 = pd.read_csv('Biden/Tweets/biden_tweets_jan.csv',lineterminator='\\n')\n",
    "df2 = pd.read_csv('Biden/Tweets/biden_tweets_feb.csv',lineterminator='\\n')\n",
    "df3 = pd.read_csv('Biden/Tweets/biden_tweets_march.csv',lineterminator='\\n')\n",
    "df4 = pd.read_csv('Biden/Tweets/biden_tweets_april.csv',lineterminator='\\n')\n",
    "df5 = pd.read_csv('Biden/Tweets/biden_tweets_may.csv',lineterminator='\\n')\n",
    "df6 = pd.read_csv('Biden/Tweets/biden_tweets_june.csv',lineterminator='\\n')\n",
    "df7 = pd.read_csv('Biden/Tweets/biden_tweets_july.csv',lineterminator='\\n')\n",
    "df8 = pd.read_csv('Biden/Tweets/biden_tweets_august.csv',lineterminator='\\n')\n",
    "df9 = pd.read_csv('Biden/Tweets/biden_tweets_september.csv',lineterminator='\\n')\n",
    "df10 = pd.read_csv('Biden/Tweets/biden_tweets_oct.csv',lineterminator='\\n')"
   ]
  },
  {
   "cell_type": "code",
   "execution_count": 15,
   "metadata": {},
   "outputs": [
    {
     "data": {
      "text/plain": [
       "(1019337, 8)"
      ]
     },
     "execution_count": 15,
     "metadata": {},
     "output_type": "execute_result"
    }
   ],
   "source": [
    "df_total = pd.concat([df1, df2, df3, df4, df5, df6, df7, df8, df9, df10])\n",
    "df_total.shape"
   ]
  },
  {
   "cell_type": "code",
   "execution_count": 17,
   "metadata": {},
   "outputs": [
    {
     "name": "stdout",
     "output_type": "stream",
     "text": [
      "I collected 1019337 tweets.\n"
     ]
    }
   ],
   "source": [
    "Corpus = df_total.copy()\n",
    "print('I collected {} tweets.'.format(len(Corpus)))"
   ]
  },
  {
   "cell_type": "markdown",
   "metadata": {},
   "source": [
    "### Data Processing"
   ]
  },
  {
   "cell_type": "markdown",
   "metadata": {},
   "source": [
    "#### Converting to lowercase"
   ]
  },
  {
   "cell_type": "code",
   "execution_count": 19,
   "metadata": {},
   "outputs": [
    {
     "data": {
      "text/html": [
       "<div>\n",
       "<style scoped>\n",
       "    .dataframe tbody tr th:only-of-type {\n",
       "        vertical-align: middle;\n",
       "    }\n",
       "\n",
       "    .dataframe tbody tr th {\n",
       "        vertical-align: top;\n",
       "    }\n",
       "\n",
       "    .dataframe thead th {\n",
       "        text-align: right;\n",
       "    }\n",
       "</style>\n",
       "<table border=\"1\" class=\"dataframe\">\n",
       "  <thead>\n",
       "    <tr style=\"text-align: right;\">\n",
       "      <th></th>\n",
       "      <th>Unnamed: 0</th>\n",
       "      <th>coordinates</th>\n",
       "      <th>date</th>\n",
       "      <th>location</th>\n",
       "      <th>place</th>\n",
       "      <th>screen_name</th>\n",
       "      <th>tweet</th>\n",
       "      <th>tweet_id</th>\n",
       "      <th>lowercase</th>\n",
       "    </tr>\n",
       "  </thead>\n",
       "  <tbody>\n",
       "    <tr>\n",
       "      <td>0</td>\n",
       "      <td>0.0</td>\n",
       "      <td>NaN</td>\n",
       "      <td>2020-01-31 23:13:14</td>\n",
       "      <td>Southern California</td>\n",
       "      <td>NaN</td>\n",
       "      <td>dianeeldredge99</td>\n",
       "      <td>@SarahLongwell25 @BillKristol I’m with you Sar...</td>\n",
       "      <td>1.22338376830131e+18</td>\n",
       "      <td>@sarahlongwell25 @billkristol i’m with you sar...</td>\n",
       "    </tr>\n",
       "    <tr>\n",
       "      <td>1</td>\n",
       "      <td>1.0</td>\n",
       "      <td>NaN</td>\n",
       "      <td>2020-01-31 22:16:17</td>\n",
       "      <td>Pale Blue Dot</td>\n",
       "      <td>NaN</td>\n",
       "      <td>guidoV4</td>\n",
       "      <td>By the way: there's really someone named like ...</td>\n",
       "      <td>1.2233694379585618e+18</td>\n",
       "      <td>by the way: there's really someone named like ...</td>\n",
       "    </tr>\n",
       "    <tr>\n",
       "      <td>2</td>\n",
       "      <td>2.0</td>\n",
       "      <td>NaN</td>\n",
       "      <td>2020-01-31 21:58:57</td>\n",
       "      <td>Inside your s.o.</td>\n",
       "      <td>NaN</td>\n",
       "      <td>Sapient6000</td>\n",
       "      <td>@mandan1459 If you are a #Biden supporter you ...</td>\n",
       "      <td>1.2233650734832394e+18</td>\n",
       "      <td>@mandan1459 if you are a #biden supporter you ...</td>\n",
       "    </tr>\n",
       "    <tr>\n",
       "      <td>3</td>\n",
       "      <td>3.0</td>\n",
       "      <td>NaN</td>\n",
       "      <td>2020-01-31 23:19:39</td>\n",
       "      <td>Milky Way Galaxy, Near Chicago</td>\n",
       "      <td>NaN</td>\n",
       "      <td>Kaizle</td>\n",
       "      <td>Why Did #Biden Drop Out Of The Dem Primary In ...</td>\n",
       "      <td>1.223385382529663e+18</td>\n",
       "      <td>why did #biden drop out of the dem primary in ...</td>\n",
       "    </tr>\n",
       "    <tr>\n",
       "      <td>4</td>\n",
       "      <td>4.0</td>\n",
       "      <td>NaN</td>\n",
       "      <td>2020-01-31 22:41:37</td>\n",
       "      <td>{out of this world}</td>\n",
       "      <td>NaN</td>\n",
       "      <td>TruthIsFact7</td>\n",
       "      <td>What bizarro land does #AdamSchiff live in? Ev...</td>\n",
       "      <td>1.223375813405479e+18</td>\n",
       "      <td>what bizarro land does #adamschiff live in? ev...</td>\n",
       "    </tr>\n",
       "  </tbody>\n",
       "</table>\n",
       "</div>"
      ],
      "text/plain": [
       "   Unnamed: 0 coordinates                 date  \\\n",
       "0         0.0         NaN  2020-01-31 23:13:14   \n",
       "1         1.0         NaN  2020-01-31 22:16:17   \n",
       "2         2.0         NaN  2020-01-31 21:58:57   \n",
       "3         3.0         NaN  2020-01-31 23:19:39   \n",
       "4         4.0         NaN  2020-01-31 22:41:37   \n",
       "\n",
       "                         location place      screen_name  \\\n",
       "0             Southern California   NaN  dianeeldredge99   \n",
       "1                   Pale Blue Dot   NaN          guidoV4   \n",
       "2                Inside your s.o.   NaN      Sapient6000   \n",
       "3  Milky Way Galaxy, Near Chicago   NaN           Kaizle   \n",
       "4             {out of this world}   NaN     TruthIsFact7   \n",
       "\n",
       "                                               tweet                tweet_id  \\\n",
       "0  @SarahLongwell25 @BillKristol I’m with you Sar...    1.22338376830131e+18   \n",
       "1  By the way: there's really someone named like ...  1.2233694379585618e+18   \n",
       "2  @mandan1459 If you are a #Biden supporter you ...  1.2233650734832394e+18   \n",
       "3  Why Did #Biden Drop Out Of The Dem Primary In ...   1.223385382529663e+18   \n",
       "4  What bizarro land does #AdamSchiff live in? Ev...   1.223375813405479e+18   \n",
       "\n",
       "                                           lowercase  \n",
       "0  @sarahlongwell25 @billkristol i’m with you sar...  \n",
       "1  by the way: there's really someone named like ...  \n",
       "2  @mandan1459 if you are a #biden supporter you ...  \n",
       "3  why did #biden drop out of the dem primary in ...  \n",
       "4  what bizarro land does #adamschiff live in? ev...  "
      ]
     },
     "execution_count": 19,
     "metadata": {},
     "output_type": "execute_result"
    }
   ],
   "source": [
    "#converting all data to lowercase\n",
    "df_total['lowercase']=df_total['tweet'].apply(lambda x: \" \".join(word.lower() for word in x.split()))\n",
    "df_total.head()"
   ]
  },
  {
   "cell_type": "code",
   "execution_count": 20,
   "metadata": {},
   "outputs": [
    {
     "data": {
      "text/html": [
       "<div>\n",
       "<style scoped>\n",
       "    .dataframe tbody tr th:only-of-type {\n",
       "        vertical-align: middle;\n",
       "    }\n",
       "\n",
       "    .dataframe tbody tr th {\n",
       "        vertical-align: top;\n",
       "    }\n",
       "\n",
       "    .dataframe thead th {\n",
       "        text-align: right;\n",
       "    }\n",
       "</style>\n",
       "<table border=\"1\" class=\"dataframe\">\n",
       "  <thead>\n",
       "    <tr style=\"text-align: right;\">\n",
       "      <th></th>\n",
       "      <th>Unnamed: 0</th>\n",
       "      <th>coordinates</th>\n",
       "      <th>date</th>\n",
       "      <th>location</th>\n",
       "      <th>place</th>\n",
       "      <th>screen_name</th>\n",
       "      <th>tweet</th>\n",
       "      <th>tweet_id</th>\n",
       "      <th>lowercase</th>\n",
       "      <th>punctuation</th>\n",
       "    </tr>\n",
       "  </thead>\n",
       "  <tbody>\n",
       "    <tr>\n",
       "      <td>0</td>\n",
       "      <td>0.0</td>\n",
       "      <td>NaN</td>\n",
       "      <td>2020-01-31 23:13:14</td>\n",
       "      <td>Southern California</td>\n",
       "      <td>NaN</td>\n",
       "      <td>dianeeldredge99</td>\n",
       "      <td>@SarahLongwell25 @BillKristol I’m with you Sar...</td>\n",
       "      <td>1.22338376830131e+18</td>\n",
       "      <td>@sarahlongwell25 @billkristol i’m with you sar...</td>\n",
       "      <td>sarahlongwell25 billkristol im with you sarah ...</td>\n",
       "    </tr>\n",
       "    <tr>\n",
       "      <td>1</td>\n",
       "      <td>1.0</td>\n",
       "      <td>NaN</td>\n",
       "      <td>2020-01-31 22:16:17</td>\n",
       "      <td>Pale Blue Dot</td>\n",
       "      <td>NaN</td>\n",
       "      <td>guidoV4</td>\n",
       "      <td>By the way: there's really someone named like ...</td>\n",
       "      <td>1.2233694379585618e+18</td>\n",
       "      <td>by the way: there's really someone named like ...</td>\n",
       "      <td>by the way theres really someone named like th...</td>\n",
       "    </tr>\n",
       "    <tr>\n",
       "      <td>2</td>\n",
       "      <td>2.0</td>\n",
       "      <td>NaN</td>\n",
       "      <td>2020-01-31 21:58:57</td>\n",
       "      <td>Inside your s.o.</td>\n",
       "      <td>NaN</td>\n",
       "      <td>Sapient6000</td>\n",
       "      <td>@mandan1459 If you are a #Biden supporter you ...</td>\n",
       "      <td>1.2233650734832394e+18</td>\n",
       "      <td>@mandan1459 if you are a #biden supporter you ...</td>\n",
       "      <td>mandan1459 if you are a biden supporter you ar...</td>\n",
       "    </tr>\n",
       "    <tr>\n",
       "      <td>3</td>\n",
       "      <td>3.0</td>\n",
       "      <td>NaN</td>\n",
       "      <td>2020-01-31 23:19:39</td>\n",
       "      <td>Milky Way Galaxy, Near Chicago</td>\n",
       "      <td>NaN</td>\n",
       "      <td>Kaizle</td>\n",
       "      <td>Why Did #Biden Drop Out Of The Dem Primary In ...</td>\n",
       "      <td>1.223385382529663e+18</td>\n",
       "      <td>why did #biden drop out of the dem primary in ...</td>\n",
       "      <td>why did biden drop out of the dem primary in 1...</td>\n",
       "    </tr>\n",
       "    <tr>\n",
       "      <td>4</td>\n",
       "      <td>4.0</td>\n",
       "      <td>NaN</td>\n",
       "      <td>2020-01-31 22:41:37</td>\n",
       "      <td>{out of this world}</td>\n",
       "      <td>NaN</td>\n",
       "      <td>TruthIsFact7</td>\n",
       "      <td>What bizarro land does #AdamSchiff live in? Ev...</td>\n",
       "      <td>1.223375813405479e+18</td>\n",
       "      <td>what bizarro land does #adamschiff live in? ev...</td>\n",
       "      <td>what bizarro land does adamschiff live in ever...</td>\n",
       "    </tr>\n",
       "  </tbody>\n",
       "</table>\n",
       "</div>"
      ],
      "text/plain": [
       "   Unnamed: 0 coordinates                 date  \\\n",
       "0         0.0         NaN  2020-01-31 23:13:14   \n",
       "1         1.0         NaN  2020-01-31 22:16:17   \n",
       "2         2.0         NaN  2020-01-31 21:58:57   \n",
       "3         3.0         NaN  2020-01-31 23:19:39   \n",
       "4         4.0         NaN  2020-01-31 22:41:37   \n",
       "\n",
       "                         location place      screen_name  \\\n",
       "0             Southern California   NaN  dianeeldredge99   \n",
       "1                   Pale Blue Dot   NaN          guidoV4   \n",
       "2                Inside your s.o.   NaN      Sapient6000   \n",
       "3  Milky Way Galaxy, Near Chicago   NaN           Kaizle   \n",
       "4             {out of this world}   NaN     TruthIsFact7   \n",
       "\n",
       "                                               tweet                tweet_id  \\\n",
       "0  @SarahLongwell25 @BillKristol I’m with you Sar...    1.22338376830131e+18   \n",
       "1  By the way: there's really someone named like ...  1.2233694379585618e+18   \n",
       "2  @mandan1459 If you are a #Biden supporter you ...  1.2233650734832394e+18   \n",
       "3  Why Did #Biden Drop Out Of The Dem Primary In ...   1.223385382529663e+18   \n",
       "4  What bizarro land does #AdamSchiff live in? Ev...   1.223375813405479e+18   \n",
       "\n",
       "                                           lowercase  \\\n",
       "0  @sarahlongwell25 @billkristol i’m with you sar...   \n",
       "1  by the way: there's really someone named like ...   \n",
       "2  @mandan1459 if you are a #biden supporter you ...   \n",
       "3  why did #biden drop out of the dem primary in ...   \n",
       "4  what bizarro land does #adamschiff live in? ev...   \n",
       "\n",
       "                                         punctuation  \n",
       "0  sarahlongwell25 billkristol im with you sarah ...  \n",
       "1  by the way theres really someone named like th...  \n",
       "2  mandan1459 if you are a biden supporter you ar...  \n",
       "3  why did biden drop out of the dem primary in 1...  \n",
       "4  what bizarro land does adamschiff live in ever...  "
      ]
     },
     "execution_count": 20,
     "metadata": {},
     "output_type": "execute_result"
    }
   ],
   "source": [
    "df_total['punctuation']=df_total['lowercase'].str.replace('[^\\w\\s]','')\n",
    "df_total.head()"
   ]
  },
  {
   "cell_type": "markdown",
   "metadata": {},
   "source": [
    "#### Removing Stopwords"
   ]
  },
  {
   "cell_type": "code",
   "execution_count": 22,
   "metadata": {},
   "outputs": [
    {
     "data": {
      "text/plain": [
       "['i',\n",
       " 'me',\n",
       " 'my',\n",
       " 'myself',\n",
       " 'we',\n",
       " 'our',\n",
       " 'ours',\n",
       " 'ourselves',\n",
       " 'you',\n",
       " \"you're\",\n",
       " \"you've\",\n",
       " \"you'll\",\n",
       " \"you'd\",\n",
       " 'your',\n",
       " 'yours',\n",
       " 'yourself',\n",
       " 'yourselves',\n",
       " 'he',\n",
       " 'him',\n",
       " 'his',\n",
       " 'himself',\n",
       " 'she',\n",
       " \"she's\",\n",
       " 'her',\n",
       " 'hers',\n",
       " 'herself',\n",
       " 'it',\n",
       " \"it's\",\n",
       " 'its',\n",
       " 'itself',\n",
       " 'they',\n",
       " 'them',\n",
       " 'their',\n",
       " 'theirs',\n",
       " 'themselves',\n",
       " 'what',\n",
       " 'which',\n",
       " 'who',\n",
       " 'whom',\n",
       " 'this',\n",
       " 'that',\n",
       " \"that'll\",\n",
       " 'these',\n",
       " 'those',\n",
       " 'am',\n",
       " 'is',\n",
       " 'are',\n",
       " 'was',\n",
       " 'were',\n",
       " 'be',\n",
       " 'been',\n",
       " 'being',\n",
       " 'have',\n",
       " 'has',\n",
       " 'had',\n",
       " 'having',\n",
       " 'do',\n",
       " 'does',\n",
       " 'did',\n",
       " 'doing',\n",
       " 'a',\n",
       " 'an',\n",
       " 'the',\n",
       " 'and',\n",
       " 'but',\n",
       " 'if',\n",
       " 'or',\n",
       " 'because',\n",
       " 'as',\n",
       " 'until',\n",
       " 'while',\n",
       " 'of',\n",
       " 'at',\n",
       " 'by',\n",
       " 'for',\n",
       " 'with',\n",
       " 'about',\n",
       " 'against',\n",
       " 'between',\n",
       " 'into',\n",
       " 'through',\n",
       " 'during',\n",
       " 'before',\n",
       " 'after',\n",
       " 'above',\n",
       " 'below',\n",
       " 'to',\n",
       " 'from',\n",
       " 'up',\n",
       " 'down',\n",
       " 'in',\n",
       " 'out',\n",
       " 'on',\n",
       " 'off',\n",
       " 'over',\n",
       " 'under',\n",
       " 'again',\n",
       " 'further',\n",
       " 'then',\n",
       " 'once',\n",
       " 'here',\n",
       " 'there',\n",
       " 'when',\n",
       " 'where',\n",
       " 'why',\n",
       " 'how',\n",
       " 'all',\n",
       " 'any',\n",
       " 'both',\n",
       " 'each',\n",
       " 'few',\n",
       " 'more',\n",
       " 'most',\n",
       " 'other',\n",
       " 'some',\n",
       " 'such',\n",
       " 'no',\n",
       " 'nor',\n",
       " 'not',\n",
       " 'only',\n",
       " 'own',\n",
       " 'same',\n",
       " 'so',\n",
       " 'than',\n",
       " 'too',\n",
       " 'very',\n",
       " 's',\n",
       " 't',\n",
       " 'can',\n",
       " 'will',\n",
       " 'just',\n",
       " 'don',\n",
       " \"don't\",\n",
       " 'should',\n",
       " \"should've\",\n",
       " 'now',\n",
       " 'd',\n",
       " 'll',\n",
       " 'm',\n",
       " 'o',\n",
       " 're',\n",
       " 've',\n",
       " 'y',\n",
       " 'ain',\n",
       " 'aren',\n",
       " \"aren't\",\n",
       " 'couldn',\n",
       " \"couldn't\",\n",
       " 'didn',\n",
       " \"didn't\",\n",
       " 'doesn',\n",
       " \"doesn't\",\n",
       " 'hadn',\n",
       " \"hadn't\",\n",
       " 'hasn',\n",
       " \"hasn't\",\n",
       " 'haven',\n",
       " \"haven't\",\n",
       " 'isn',\n",
       " \"isn't\",\n",
       " 'ma',\n",
       " 'mightn',\n",
       " \"mightn't\",\n",
       " 'mustn',\n",
       " \"mustn't\",\n",
       " 'needn',\n",
       " \"needn't\",\n",
       " 'shan',\n",
       " \"shan't\",\n",
       " 'shouldn',\n",
       " \"shouldn't\",\n",
       " 'wasn',\n",
       " \"wasn't\",\n",
       " 'weren',\n",
       " \"weren't\",\n",
       " 'won',\n",
       " \"won't\",\n",
       " 'wouldn',\n",
       " \"wouldn't\"]"
      ]
     },
     "execution_count": 22,
     "metadata": {},
     "output_type": "execute_result"
    }
   ],
   "source": [
    "stop_words=stopwords.words('english')\n",
    "stop_words"
   ]
  },
  {
   "cell_type": "code",
   "execution_count": 24,
   "metadata": {},
   "outputs": [
    {
     "data": {
      "text/html": [
       "<div>\n",
       "<style scoped>\n",
       "    .dataframe tbody tr th:only-of-type {\n",
       "        vertical-align: middle;\n",
       "    }\n",
       "\n",
       "    .dataframe tbody tr th {\n",
       "        vertical-align: top;\n",
       "    }\n",
       "\n",
       "    .dataframe thead th {\n",
       "        text-align: right;\n",
       "    }\n",
       "</style>\n",
       "<table border=\"1\" class=\"dataframe\">\n",
       "  <thead>\n",
       "    <tr style=\"text-align: right;\">\n",
       "      <th></th>\n",
       "      <th>Unnamed: 0</th>\n",
       "      <th>coordinates</th>\n",
       "      <th>date</th>\n",
       "      <th>location</th>\n",
       "      <th>place</th>\n",
       "      <th>screen_name</th>\n",
       "      <th>tweet</th>\n",
       "      <th>tweet_id</th>\n",
       "      <th>lowercase</th>\n",
       "      <th>punctuation</th>\n",
       "      <th>stopwords</th>\n",
       "    </tr>\n",
       "  </thead>\n",
       "  <tbody>\n",
       "    <tr>\n",
       "      <td>0</td>\n",
       "      <td>0.0</td>\n",
       "      <td>NaN</td>\n",
       "      <td>2020-01-31 23:13:14</td>\n",
       "      <td>Southern California</td>\n",
       "      <td>NaN</td>\n",
       "      <td>dianeeldredge99</td>\n",
       "      <td>@SarahLongwell25 @BillKristol I’m with you Sar...</td>\n",
       "      <td>1.22338376830131e+18</td>\n",
       "      <td>@sarahlongwell25 @billkristol i’m with you sar...</td>\n",
       "      <td>sarahlongwell25 billkristol im with you sarah ...</td>\n",
       "      <td>sarahlongwell25 billkristol im sarah voting re...</td>\n",
       "    </tr>\n",
       "    <tr>\n",
       "      <td>1</td>\n",
       "      <td>1.0</td>\n",
       "      <td>NaN</td>\n",
       "      <td>2020-01-31 22:16:17</td>\n",
       "      <td>Pale Blue Dot</td>\n",
       "      <td>NaN</td>\n",
       "      <td>guidoV4</td>\n",
       "      <td>By the way: there's really someone named like ...</td>\n",
       "      <td>1.2233694379585618e+18</td>\n",
       "      <td>by the way: there's really someone named like ...</td>\n",
       "      <td>by the way theres really someone named like th...</td>\n",
       "      <td>way theres really someone named like germany o...</td>\n",
       "    </tr>\n",
       "    <tr>\n",
       "      <td>2</td>\n",
       "      <td>2.0</td>\n",
       "      <td>NaN</td>\n",
       "      <td>2020-01-31 21:58:57</td>\n",
       "      <td>Inside your s.o.</td>\n",
       "      <td>NaN</td>\n",
       "      <td>Sapient6000</td>\n",
       "      <td>@mandan1459 If you are a #Biden supporter you ...</td>\n",
       "      <td>1.2233650734832394e+18</td>\n",
       "      <td>@mandan1459 if you are a #biden supporter you ...</td>\n",
       "      <td>mandan1459 if you are a biden supporter you ar...</td>\n",
       "      <td>mandan1459 biden supporter either neoliberal p...</td>\n",
       "    </tr>\n",
       "    <tr>\n",
       "      <td>3</td>\n",
       "      <td>3.0</td>\n",
       "      <td>NaN</td>\n",
       "      <td>2020-01-31 23:19:39</td>\n",
       "      <td>Milky Way Galaxy, Near Chicago</td>\n",
       "      <td>NaN</td>\n",
       "      <td>Kaizle</td>\n",
       "      <td>Why Did #Biden Drop Out Of The Dem Primary In ...</td>\n",
       "      <td>1.223385382529663e+18</td>\n",
       "      <td>why did #biden drop out of the dem primary in ...</td>\n",
       "      <td>why did biden drop out of the dem primary in 1...</td>\n",
       "      <td>biden drop dem primary 1988 httpstco2sjy0hlfqg...</td>\n",
       "    </tr>\n",
       "    <tr>\n",
       "      <td>4</td>\n",
       "      <td>4.0</td>\n",
       "      <td>NaN</td>\n",
       "      <td>2020-01-31 22:41:37</td>\n",
       "      <td>{out of this world}</td>\n",
       "      <td>NaN</td>\n",
       "      <td>TruthIsFact7</td>\n",
       "      <td>What bizarro land does #AdamSchiff live in? Ev...</td>\n",
       "      <td>1.223375813405479e+18</td>\n",
       "      <td>what bizarro land does #adamschiff live in? ev...</td>\n",
       "      <td>what bizarro land does adamschiff live in ever...</td>\n",
       "      <td>bizarro land adamschiff live everything talks ...</td>\n",
       "    </tr>\n",
       "  </tbody>\n",
       "</table>\n",
       "</div>"
      ],
      "text/plain": [
       "   Unnamed: 0 coordinates                 date  \\\n",
       "0         0.0         NaN  2020-01-31 23:13:14   \n",
       "1         1.0         NaN  2020-01-31 22:16:17   \n",
       "2         2.0         NaN  2020-01-31 21:58:57   \n",
       "3         3.0         NaN  2020-01-31 23:19:39   \n",
       "4         4.0         NaN  2020-01-31 22:41:37   \n",
       "\n",
       "                         location place      screen_name  \\\n",
       "0             Southern California   NaN  dianeeldredge99   \n",
       "1                   Pale Blue Dot   NaN          guidoV4   \n",
       "2                Inside your s.o.   NaN      Sapient6000   \n",
       "3  Milky Way Galaxy, Near Chicago   NaN           Kaizle   \n",
       "4             {out of this world}   NaN     TruthIsFact7   \n",
       "\n",
       "                                               tweet                tweet_id  \\\n",
       "0  @SarahLongwell25 @BillKristol I’m with you Sar...    1.22338376830131e+18   \n",
       "1  By the way: there's really someone named like ...  1.2233694379585618e+18   \n",
       "2  @mandan1459 If you are a #Biden supporter you ...  1.2233650734832394e+18   \n",
       "3  Why Did #Biden Drop Out Of The Dem Primary In ...   1.223385382529663e+18   \n",
       "4  What bizarro land does #AdamSchiff live in? Ev...   1.223375813405479e+18   \n",
       "\n",
       "                                           lowercase  \\\n",
       "0  @sarahlongwell25 @billkristol i’m with you sar...   \n",
       "1  by the way: there's really someone named like ...   \n",
       "2  @mandan1459 if you are a #biden supporter you ...   \n",
       "3  why did #biden drop out of the dem primary in ...   \n",
       "4  what bizarro land does #adamschiff live in? ev...   \n",
       "\n",
       "                                         punctuation  \\\n",
       "0  sarahlongwell25 billkristol im with you sarah ...   \n",
       "1  by the way theres really someone named like th...   \n",
       "2  mandan1459 if you are a biden supporter you ar...   \n",
       "3  why did biden drop out of the dem primary in 1...   \n",
       "4  what bizarro land does adamschiff live in ever...   \n",
       "\n",
       "                                           stopwords  \n",
       "0  sarahlongwell25 billkristol im sarah voting re...  \n",
       "1  way theres really someone named like germany o...  \n",
       "2  mandan1459 biden supporter either neoliberal p...  \n",
       "3  biden drop dem primary 1988 httpstco2sjy0hlfqg...  \n",
       "4  bizarro land adamschiff live everything talks ...  "
      ]
     },
     "execution_count": 24,
     "metadata": {},
     "output_type": "execute_result"
    }
   ],
   "source": [
    "df_total['stopwords']=df_total['punctuation'].apply(lambda x: \" \".join(word for word in x.split()if word not in stop_words))\n",
    "df_total.head()"
   ]
  },
  {
   "cell_type": "markdown",
   "metadata": {},
   "source": [
    "#### Lemmatization"
   ]
  },
  {
   "cell_type": "code",
   "execution_count": 26,
   "metadata": {},
   "outputs": [],
   "source": [
    "#import Textblob\n",
    "from textblob import TextBlob \n",
    "from textblob import Word"
   ]
  },
  {
   "cell_type": "code",
   "execution_count": 27,
   "metadata": {},
   "outputs": [],
   "source": [
    "df_total['lemmatize']=df_total['stopwords'].apply(lambda x:\" \".join(Word(word).lemmatize() for word in x.split()))"
   ]
  },
  {
   "cell_type": "code",
   "execution_count": 28,
   "metadata": {},
   "outputs": [],
   "source": [
    "df_total['polarity']=df_total['lemmatize'].apply(lambda x: TextBlob(x).sentiment[0])## just got polarity"
   ]
  },
  {
   "cell_type": "code",
   "execution_count": 30,
   "metadata": {},
   "outputs": [],
   "source": [
    "#df_total['subjectivity']=df_total['lemmatize'].apply(lambda x: TextBlob(x).sentiment[1])## just got polarity"
   ]
  },
  {
   "cell_type": "code",
   "execution_count": 58,
   "metadata": {},
   "outputs": [
    {
     "data": {
      "text/html": [
       "<div>\n",
       "<style scoped>\n",
       "    .dataframe tbody tr th:only-of-type {\n",
       "        vertical-align: middle;\n",
       "    }\n",
       "\n",
       "    .dataframe tbody tr th {\n",
       "        vertical-align: top;\n",
       "    }\n",
       "\n",
       "    .dataframe thead th {\n",
       "        text-align: right;\n",
       "    }\n",
       "</style>\n",
       "<table border=\"1\" class=\"dataframe\">\n",
       "  <thead>\n",
       "    <tr style=\"text-align: right;\">\n",
       "      <th></th>\n",
       "      <th>Unnamed: 0</th>\n",
       "      <th>coordinates</th>\n",
       "      <th>date</th>\n",
       "      <th>location</th>\n",
       "      <th>place</th>\n",
       "      <th>screen_name</th>\n",
       "      <th>tweet</th>\n",
       "      <th>tweet_id</th>\n",
       "      <th>lowercase</th>\n",
       "      <th>punctuation</th>\n",
       "      <th>stopwords</th>\n",
       "      <th>lemmatize</th>\n",
       "      <th>polarity</th>\n",
       "    </tr>\n",
       "  </thead>\n",
       "  <tbody>\n",
       "    <tr>\n",
       "      <td>0</td>\n",
       "      <td>0.0</td>\n",
       "      <td>NaN</td>\n",
       "      <td>2020-01-31 23:13:14</td>\n",
       "      <td>Southern California</td>\n",
       "      <td>NaN</td>\n",
       "      <td>dianeeldredge99</td>\n",
       "      <td>@SarahLongwell25 @BillKristol I’m with you Sar...</td>\n",
       "      <td>1.22338376830131e+18</td>\n",
       "      <td>@sarahlongwell25 @billkristol i’m with you sar...</td>\n",
       "      <td>sarahlongwell25 billkristol im with you sarah ...</td>\n",
       "      <td>sarahlongwell25 billkristol im sarah voting re...</td>\n",
       "      <td>sarahlongwell25 billkristol im sarah voting re...</td>\n",
       "      <td>-0.107143</td>\n",
       "    </tr>\n",
       "    <tr>\n",
       "      <td>1</td>\n",
       "      <td>1.0</td>\n",
       "      <td>NaN</td>\n",
       "      <td>2020-01-31 22:16:17</td>\n",
       "      <td>Pale Blue Dot</td>\n",
       "      <td>NaN</td>\n",
       "      <td>guidoV4</td>\n",
       "      <td>By the way: there's really someone named like ...</td>\n",
       "      <td>1.2233694379585618e+18</td>\n",
       "      <td>by the way: there's really someone named like ...</td>\n",
       "      <td>by the way theres really someone named like th...</td>\n",
       "      <td>way theres really someone named like germany o...</td>\n",
       "      <td>way there really someone named like germany on...</td>\n",
       "      <td>0.225000</td>\n",
       "    </tr>\n",
       "    <tr>\n",
       "      <td>2</td>\n",
       "      <td>2.0</td>\n",
       "      <td>NaN</td>\n",
       "      <td>2020-01-31 21:58:57</td>\n",
       "      <td>Inside your s.o.</td>\n",
       "      <td>NaN</td>\n",
       "      <td>Sapient6000</td>\n",
       "      <td>@mandan1459 If you are a #Biden supporter you ...</td>\n",
       "      <td>1.2233650734832394e+18</td>\n",
       "      <td>@mandan1459 if you are a #biden supporter you ...</td>\n",
       "      <td>mandan1459 if you are a biden supporter you ar...</td>\n",
       "      <td>mandan1459 biden supporter either neoliberal p...</td>\n",
       "      <td>mandan1459 biden supporter either neoliberal p...</td>\n",
       "      <td>0.000000</td>\n",
       "    </tr>\n",
       "    <tr>\n",
       "      <td>3</td>\n",
       "      <td>3.0</td>\n",
       "      <td>NaN</td>\n",
       "      <td>2020-01-31 23:19:39</td>\n",
       "      <td>Milky Way Galaxy, Near Chicago</td>\n",
       "      <td>NaN</td>\n",
       "      <td>Kaizle</td>\n",
       "      <td>Why Did #Biden Drop Out Of The Dem Primary In ...</td>\n",
       "      <td>1.223385382529663e+18</td>\n",
       "      <td>why did #biden drop out of the dem primary in ...</td>\n",
       "      <td>why did biden drop out of the dem primary in 1...</td>\n",
       "      <td>biden drop dem primary 1988 httpstco2sjy0hlfqg...</td>\n",
       "      <td>biden drop dem primary 1988 httpstco2sjy0hlfqg...</td>\n",
       "      <td>0.400000</td>\n",
       "    </tr>\n",
       "    <tr>\n",
       "      <td>4</td>\n",
       "      <td>4.0</td>\n",
       "      <td>NaN</td>\n",
       "      <td>2020-01-31 22:41:37</td>\n",
       "      <td>{out of this world}</td>\n",
       "      <td>NaN</td>\n",
       "      <td>TruthIsFact7</td>\n",
       "      <td>What bizarro land does #AdamSchiff live in? Ev...</td>\n",
       "      <td>1.223375813405479e+18</td>\n",
       "      <td>what bizarro land does #adamschiff live in? ev...</td>\n",
       "      <td>what bizarro land does adamschiff live in ever...</td>\n",
       "      <td>bizarro land adamschiff live everything talks ...</td>\n",
       "      <td>bizarro land adamschiff live everything talk r...</td>\n",
       "      <td>0.068182</td>\n",
       "    </tr>\n",
       "  </tbody>\n",
       "</table>\n",
       "</div>"
      ],
      "text/plain": [
       "   Unnamed: 0 coordinates                 date  \\\n",
       "0         0.0         NaN  2020-01-31 23:13:14   \n",
       "1         1.0         NaN  2020-01-31 22:16:17   \n",
       "2         2.0         NaN  2020-01-31 21:58:57   \n",
       "3         3.0         NaN  2020-01-31 23:19:39   \n",
       "4         4.0         NaN  2020-01-31 22:41:37   \n",
       "\n",
       "                         location place      screen_name  \\\n",
       "0             Southern California   NaN  dianeeldredge99   \n",
       "1                   Pale Blue Dot   NaN          guidoV4   \n",
       "2                Inside your s.o.   NaN      Sapient6000   \n",
       "3  Milky Way Galaxy, Near Chicago   NaN           Kaizle   \n",
       "4             {out of this world}   NaN     TruthIsFact7   \n",
       "\n",
       "                                               tweet                tweet_id  \\\n",
       "0  @SarahLongwell25 @BillKristol I’m with you Sar...    1.22338376830131e+18   \n",
       "1  By the way: there's really someone named like ...  1.2233694379585618e+18   \n",
       "2  @mandan1459 If you are a #Biden supporter you ...  1.2233650734832394e+18   \n",
       "3  Why Did #Biden Drop Out Of The Dem Primary In ...   1.223385382529663e+18   \n",
       "4  What bizarro land does #AdamSchiff live in? Ev...   1.223375813405479e+18   \n",
       "\n",
       "                                           lowercase  \\\n",
       "0  @sarahlongwell25 @billkristol i’m with you sar...   \n",
       "1  by the way: there's really someone named like ...   \n",
       "2  @mandan1459 if you are a #biden supporter you ...   \n",
       "3  why did #biden drop out of the dem primary in ...   \n",
       "4  what bizarro land does #adamschiff live in? ev...   \n",
       "\n",
       "                                         punctuation  \\\n",
       "0  sarahlongwell25 billkristol im with you sarah ...   \n",
       "1  by the way theres really someone named like th...   \n",
       "2  mandan1459 if you are a biden supporter you ar...   \n",
       "3  why did biden drop out of the dem primary in 1...   \n",
       "4  what bizarro land does adamschiff live in ever...   \n",
       "\n",
       "                                           stopwords  \\\n",
       "0  sarahlongwell25 billkristol im sarah voting re...   \n",
       "1  way theres really someone named like germany o...   \n",
       "2  mandan1459 biden supporter either neoliberal p...   \n",
       "3  biden drop dem primary 1988 httpstco2sjy0hlfqg...   \n",
       "4  bizarro land adamschiff live everything talks ...   \n",
       "\n",
       "                                           lemmatize  polarity  \n",
       "0  sarahlongwell25 billkristol im sarah voting re... -0.107143  \n",
       "1  way there really someone named like germany on...  0.225000  \n",
       "2  mandan1459 biden supporter either neoliberal p...  0.000000  \n",
       "3  biden drop dem primary 1988 httpstco2sjy0hlfqg...  0.400000  \n",
       "4  bizarro land adamschiff live everything talk r...  0.068182  "
      ]
     },
     "execution_count": 58,
     "metadata": {},
     "output_type": "execute_result"
    }
   ],
   "source": [
    "df_total.head()"
   ]
  },
  {
   "cell_type": "markdown",
   "metadata": {},
   "source": [
    "### Tweets for Biden with sentiments (-1 = negative, +1 = posiitive, 0 = neutral)"
   ]
  },
  {
   "cell_type": "code",
   "execution_count": 33,
   "metadata": {},
   "outputs": [
    {
     "data": {
      "image/png": "[encoded data removed]",
      "text/plain": [
       "<Figure size 720x432 with 1 Axes>"
      ]
     },
     "metadata": {
      "needs_background": "light"
     },
     "output_type": "display_data"
    }
   ],
   "source": [
    "num_bins = 10\n",
    "plt.figure(figsize=(10,6))\n",
    "n, bins, patches = plt.hist(df_total.polarity, num_bins, facecolor='green', alpha=0.5)\n",
    "plt.xlabel('Polarity')\n",
    "plt.ylabel('Count')\n",
    "plt.title('Histogram of Tweets sentiments (-1 = negative, +1 = posiitive, 0 = neutral)')\n",
    "plt.show();"
   ]
  },
  {
   "cell_type": "code",
   "execution_count": 104,
   "metadata": {},
   "outputs": [
    {
     "data": {
      "text/plain": [
       "<matplotlib.axes._subplots.AxesSubplot at 0x7fdbede15cd0>"
      ]
     },
     "execution_count": 104,
     "metadata": {},
     "output_type": "execute_result"
    },
    {
     "data": {
      "image/png": "[encoded data removed]",
      "text/plain": [
       "<Figure size 1080x720 with 1 Axes>"
      ]
     },
     "metadata": {},
     "output_type": "display_data"
    }
   ],
   "source": [
    "sns.distplot(df_total['polarity'])"
   ]
  },
  {
   "cell_type": "code",
   "execution_count": 34,
   "metadata": {},
   "outputs": [
    {
     "name": "stdout",
     "output_type": "stream",
     "text": [
      "Total Number of Unique Locations Tweeting : 230\n"
     ]
    }
   ],
   "source": [
    "data = df_total.dropna()\n",
    "print('Total Number of Unique Locations Tweeting :',len(data['location'].unique()))"
   ]
  },
  {
   "cell_type": "markdown",
   "metadata": {},
   "source": [
    "#### Top 20 Locations Tweeting about Biden"
   ]
  },
  {
   "cell_type": "code",
   "execution_count": 42,
   "metadata": {},
   "outputs": [],
   "source": [
    "import seaborn as sns"
   ]
  },
  {
   "cell_type": "code",
   "execution_count": 45,
   "metadata": {},
   "outputs": [],
   "source": [
    "top20 = data['location'].value_counts()\n",
    "top20 = top20[0:20]\n",
    "top20 = top20.to_frame().reset_index()\n",
    "top20.rename(columns = {'index':'location','location':'counts'}, inplace = True) "
   ]
  },
  {
   "cell_type": "code",
   "execution_count": 46,
   "metadata": {},
   "outputs": [
    {
     "data": {
      "image/png": "[encoded data removed]",
      "text/plain": [
       "<Figure size 1080x720 with 1 Axes>"
      ]
     },
     "metadata": {},
     "output_type": "display_data"
    }
   ],
   "source": [
    "sns.barplot(y=\"location\", x=\"counts\", data=top20)\n",
    "sns.set(rc={'figure.figsize':(15,10)})"
   ]
  },
  {
   "cell_type": "code",
   "execution_count": 112,
   "metadata": {},
   "outputs": [
    {
     "data": {
      "text/plain": [
       "2585      Iowa, New York, Washington DC.\n",
       "29588                  The Gridiron, USA\n",
       "4920               Montgomery County, MD\n",
       "39627               Worldwide Domination\n",
       "217330                  Jacksonville, FL\n",
       "58559                      Palo Alto, CA\n",
       "28072                         New Jersey\n",
       "5748               Montgomery County, MD\n",
       "12099                  Sydney, Australia\n",
       "124936                            Remote\n",
       "Name: location, dtype: object"
      ]
     },
     "execution_count": 112,
     "metadata": {},
     "output_type": "execute_result"
    }
   ],
   "source": [
    "neg_tweets = data[data['polarity']>0]\n",
    "neg_tweets = neg_tweets.sort_values(by='polarity', ascending=False)\n",
    "neg_tweets['location'][:10]"
   ]
  },
  {
   "cell_type": "code",
   "execution_count": 113,
   "metadata": {},
   "outputs": [
    {
     "data": {
      "text/plain": [
       "505       Derry, Ohio or Fife, depending\n",
       "120491    Derry, Ohio or Fife, depending\n",
       "95364                      Manhattan, NY\n",
       "1707                   The Gridiron, USA\n",
       "20655                  The Gridiron, USA\n",
       "5884                   The Gridiron, USA\n",
       "5435                   The Gridiron, USA\n",
       "5021                   The Gridiron, USA\n",
       "2006                   The Gridiron, USA\n",
       "40742                    Long Island NY \n",
       "Name: location, dtype: object"
      ]
     },
     "execution_count": 113,
     "metadata": {},
     "output_type": "execute_result"
    }
   ],
   "source": [
    "pos_tweets = data[data['polarity']<0]\n",
    "pos_tweets = pos_tweets.sort_values(by='polarity', ascending=False)\n",
    "pos_tweets['location'][:10]"
   ]
  },
  {
   "cell_type": "code",
   "execution_count": null,
   "metadata": {},
   "outputs": [],
   "source": []
  },
  {
   "cell_type": "code",
   "execution_count": null,
   "metadata": {},
   "outputs": [],
   "source": []
  },
  {
   "cell_type": "markdown",
   "metadata": {},
   "source": [
    "### Geolocation - not used"
   ]
  },
  {
   "cell_type": "code",
   "execution_count": 48,
   "metadata": {},
   "outputs": [],
   "source": [
    "import geopandas as gpd"
   ]
  },
  {
   "cell_type": "code",
   "execution_count": 54,
   "metadata": {},
   "outputs": [],
   "source": [
    "coord = pd.notnull(df_total[\"coordinates\"])"
   ]
  },
  {
   "cell_type": "code",
   "execution_count": 61,
   "metadata": {},
   "outputs": [],
   "source": [
    "coord = df_total.loc[df_total['coordinates'].notnull()]"
   ]
  },
  {
   "cell_type": "code",
   "execution_count": 74,
   "metadata": {},
   "outputs": [
    {
     "data": {
      "text/html": [
       "<div>\n",
       "<style scoped>\n",
       "    .dataframe tbody tr th:only-of-type {\n",
       "        vertical-align: middle;\n",
       "    }\n",
       "\n",
       "    .dataframe tbody tr th {\n",
       "        vertical-align: top;\n",
       "    }\n",
       "\n",
       "    .dataframe thead th {\n",
       "        text-align: right;\n",
       "    }\n",
       "</style>\n",
       "<table border=\"1\" class=\"dataframe\">\n",
       "  <thead>\n",
       "    <tr style=\"text-align: right;\">\n",
       "      <th></th>\n",
       "      <th>FID</th>\n",
       "      <th>Program</th>\n",
       "      <th>State_Code</th>\n",
       "      <th>State_Name</th>\n",
       "      <th>Flowing_St</th>\n",
       "      <th>FID_1</th>\n",
       "      <th>geometry</th>\n",
       "    </tr>\n",
       "  </thead>\n",
       "  <tbody>\n",
       "    <tr>\n",
       "      <td>0</td>\n",
       "      <td>1</td>\n",
       "      <td>PERMIT TRACKING</td>\n",
       "      <td>AL</td>\n",
       "      <td>ALABAMA</td>\n",
       "      <td>F</td>\n",
       "      <td>919</td>\n",
       "      <td>POLYGON ((-85.07007 31.98070, -85.11515 31.907...</td>\n",
       "    </tr>\n",
       "    <tr>\n",
       "      <td>1</td>\n",
       "      <td>2</td>\n",
       "      <td>None</td>\n",
       "      <td>AK</td>\n",
       "      <td>ALASKA</td>\n",
       "      <td>N</td>\n",
       "      <td>920</td>\n",
       "      <td>MULTIPOLYGON (((-161.33379 58.73325, -161.3824...</td>\n",
       "    </tr>\n",
       "    <tr>\n",
       "      <td>2</td>\n",
       "      <td>3</td>\n",
       "      <td>AZURITE</td>\n",
       "      <td>AZ</td>\n",
       "      <td>ARIZONA</td>\n",
       "      <td>F</td>\n",
       "      <td>921</td>\n",
       "      <td>POLYGON ((-114.52063 33.02771, -114.55909 33.0...</td>\n",
       "    </tr>\n",
       "    <tr>\n",
       "      <td>3</td>\n",
       "      <td>4</td>\n",
       "      <td>PDS</td>\n",
       "      <td>AR</td>\n",
       "      <td>ARKANSAS</td>\n",
       "      <td>F</td>\n",
       "      <td>922</td>\n",
       "      <td>POLYGON ((-94.46169 34.19677, -94.45262 34.508...</td>\n",
       "    </tr>\n",
       "    <tr>\n",
       "      <td>4</td>\n",
       "      <td>5</td>\n",
       "      <td>None</td>\n",
       "      <td>CA</td>\n",
       "      <td>CALIFORNIA</td>\n",
       "      <td>N</td>\n",
       "      <td>923</td>\n",
       "      <td>MULTIPOLYGON (((-121.66522 38.16929, -121.7823...</td>\n",
       "    </tr>\n",
       "  </tbody>\n",
       "</table>\n",
       "</div>"
      ],
      "text/plain": [
       "   FID          Program State_Code  State_Name Flowing_St  FID_1  \\\n",
       "0    1  PERMIT TRACKING         AL     ALABAMA          F    919   \n",
       "1    2             None         AK      ALASKA          N    920   \n",
       "2    3          AZURITE         AZ     ARIZONA          F    921   \n",
       "3    4              PDS         AR    ARKANSAS          F    922   \n",
       "4    5             None         CA  CALIFORNIA          N    923   \n",
       "\n",
       "                                            geometry  \n",
       "0  POLYGON ((-85.07007 31.98070, -85.11515 31.907...  \n",
       "1  MULTIPOLYGON (((-161.33379 58.73325, -161.3824...  \n",
       "2  POLYGON ((-114.52063 33.02771, -114.55909 33.0...  \n",
       "3  POLYGON ((-94.46169 34.19677, -94.45262 34.508...  \n",
       "4  MULTIPOLYGON (((-121.66522 38.16929, -121.7823...  "
      ]
     },
     "execution_count": 74,
     "metadata": {},
     "output_type": "execute_result"
    }
   ],
   "source": [
    "usa = gpd.read_file('states2/States_shapefile.shp')\n",
    "usa.head()"
   ]
  },
  {
   "cell_type": "code",
   "execution_count": 76,
   "metadata": {},
   "outputs": [
    {
     "data": {
      "text/plain": [
       "<matplotlib.axes._subplots.AxesSubplot at 0x7fdbed2bb450>"
      ]
     },
     "execution_count": 76,
     "metadata": {},
     "output_type": "execute_result"
    },
    {
     "data": {
      "image/png": "[encoded data removed]",
      "text/plain": [
       "<Figure size 1080x720 with 1 Axes>"
      ]
     },
     "metadata": {},
     "output_type": "display_data"
    }
   ],
   "source": [
    "usa.plot()"
   ]
  },
  {
   "cell_type": "code",
   "execution_count": 94,
   "metadata": {},
   "outputs": [],
   "source": [
    "loc =df_total['coordinates']"
   ]
  },
  {
   "cell_type": "code",
   "execution_count": 95,
   "metadata": {},
   "outputs": [],
   "source": [
    "cleanloc = [x for x in loc if str(x) != 'nan']"
   ]
  },
  {
   "cell_type": "code",
   "execution_count": 92,
   "metadata": {},
   "outputs": [],
   "source": [
    "cleanloc = [x for x in loc if str(x) != 'coordinates']"
   ]
  },
  {
   "cell_type": "code",
   "execution_count": 101,
   "metadata": {},
   "outputs": [],
   "source": [
    "coord = df_total['coordinates'].value_counts().index"
   ]
  },
  {
   "cell_type": "code",
   "execution_count": 102,
   "metadata": {},
   "outputs": [
    {
     "data": {
      "text/plain": [
       "Index(['coordinates', '{'type': 'Point', 'coordinates': [-118.2445, 34.0564]}',\n",
       "       '{'type': 'Point', 'coordinates': [-84.3889, 33.7566]}',\n",
       "       '{'type': 'Point', 'coordinates': [-77.0367, 38.8951]}',\n",
       "       '{'type': 'Point', 'coordinates': [-118.3136344, 34.09073173]}',\n",
       "       '{'type': 'Point', 'coordinates': [-74.0064, 40.7142]}',\n",
       "       '{'type': 'Point', 'coordinates': [-81.9742, 27.8989]}',\n",
       "       '{'type': 'Point', 'coordinates': [-115.149, 36.1675]}',\n",
       "       '{'type': 'Point', 'coordinates': [-82.4558, 27.9473]}',\n",
       "       '{'type': 'Point', 'coordinates': [-98.5, 29.4167]}',\n",
       "       ...\n",
       "       '{'type': 'Point', 'coordinates': [-89.9899, 34.9576]}',\n",
       "       '{'type': 'Point', 'coordinates': [-87.62558788, 41.88832518]}',\n",
       "       '{'type': 'Point', 'coordinates': [-85.8524, 41.238]}',\n",
       "       '{'type': 'Point', 'coordinates': [-95.5741171, 29.71171171]}',\n",
       "       '{'type': 'Point', 'coordinates': [-122.577452, 45.520335]}',\n",
       "       '{'type': 'Point', 'coordinates': [-115.08101287, 36.1779754]}',\n",
       "       '{'type': 'Point', 'coordinates': [-80.28091469, 25.97734614]}',\n",
       "       '{'type': 'Point', 'coordinates': [-118.33702039, 34.10172883]}',\n",
       "       '{'type': 'Point', 'coordinates': [114.35014953, 30.52502419]}',\n",
       "       '{'type': 'Point', 'coordinates': [8.6709, 50.1154]}'],\n",
       "      dtype='object', length=317)"
      ]
     },
     "execution_count": 102,
     "metadata": {},
     "output_type": "execute_result"
    }
   ],
   "source": [
    "coord"
   ]
  },
  {
   "cell_type": "code",
   "execution_count": null,
   "metadata": {},
   "outputs": [],
   "source": []
  }
 ],
 "metadata": {
  "kernelspec": {
   "display_name": "Python 3",
   "language": "python",
   "name": "python3"
  },
  "language_info": {
   "codemirror_mode": {
    "name": "ipython",
    "version": 3
   },
   "file_extension": ".py",
   "mimetype": "text/x-python",
   "name": "python",
   "nbconvert_exporter": "python",
   "pygments_lexer": "ipython3",
   "version": "3.7.4"
  }
 },
 "nbformat": 4,
 "nbformat_minor": 4
}
